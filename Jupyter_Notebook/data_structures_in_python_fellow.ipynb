{
  "metadata": {
    "language_info": {
      "codemirror_mode": {
        "name": "python",
        "version": 3
      },
      "file_extension": ".py",
      "mimetype": "text/x-python",
      "name": "python",
      "nbconvert_exporter": "python",
      "pygments_lexer": "ipython3",
      "version": "3.8"
    },
    "kernelspec": {
      "name": "python",
      "display_name": "Python (Pyodide)",
      "language": "python"
    }
  },
  "nbformat_minor": 4,
  "nbformat": 4,
  "cells": [
    {
      "cell_type": "markdown",
      "source": "Analizando a los investigadores que quieren trabajar en nuestro grupo de investigación\n====================================================\n\n**Objetivo de aprendizaje**: Al final de este caso, serás capaz de diferenciar entre los conjuntos, las listas, las tuplas y los diccionarios en Python. Además, sabrás cómo crearlos y utilizarlos.\n\nEres el ayudante de una profesora muy reconocida que ha estado recopilando aplicaciones de candidatos que quieren hacer parte de su grupo de investigación. Las ha ido registrando en un documento de Word que actualiza cada vez que recibe un correo electrónico de un solicitante. Hasta ahora, hay cuatro personas interesadas en formar parte del grupo. Tu profesora te ha pedido que la ayudes a obtener una idea preliminar sobre los tipos de intereses que los solicitantes tienen en común, así como a organizar los datos para su posterior análisis y para programar las entrevistas.",
      "metadata": {}
    },
    {
      "cell_type": "markdown",
      "source": "Análisis de afinidades\n----------------------\n\nÉstas son las preferencias que los solicitantes declararon (los nombres de los solicitantes y los temas no están en ningún orden particular):\n\n* **Dra. Esneda Lopez**:\n    -   Topología\n    -   Matemáticas aplicadas\n    -   Teoría de los números\n* **Dr. Mario Bustamante**:\n    -   Estadística\n    -   Economía laboral\n    -   Matemáticas aplicadas\n    -   Literatura medieval\n* **Dr. Daniel Castillo**:\n    -   Desarrollo de software\n    -   Estadística\n    -   Matemáticas aplicadas\n    -   Teoría de los números\n* **Dr. Manuel Perez**:\n    -   Mecánica cuántica\n    -   Relatividad general\n    -   Computación cuántica\n\nVamos a crear un objeto Python para cada académico para almacenar estas preferencias:\n",
      "metadata": {}
    },
    {
      "cell_type": "code",
      "source": "esneda_lopez_intereses = {\"topología\", \"matemáticas aplicadas\", \"teoría de los números\"}\nmario_bustamante_intereses = {\"estadística\", \"economía laboral\", \"matemáticas aplicadas\", \"literatura medieval\"}\ndaniel_castillo_intereses = {\"desarrollo de software\", \"estadística\", \"matemáticas aplicadas\", \"teoría de los números\"}\nmanuel_perez_intereses = {\"mecánica cuántica\", \"relatividad general\"}",
      "metadata": {},
      "execution_count": null,
      "outputs": []
    },
    {
      "cell_type": "markdown",
      "source": "Este tipo concreto de objeto se llama **conjunto**. Los conjuntos se crean colocando elementos entre llaves y separándolos con comas. Algo importante acerca de los conjuntos es que no permiten duplicados. Para ilustrar esto, supongamos que quieres añadir la `computación cuántica` a `manuel_perez`. Puedes hacerlo fácilmente con el método **`.add()`**.\n\nAntes de añadir el elemento:\n",
      "metadata": {}
    },
    {
      "cell_type": "code",
      "source": "manuel_perez_intereses",
      "metadata": {},
      "execution_count": null,
      "outputs": []
    },
    {
      "cell_type": "markdown",
      "source": "Después de añadirlo:\n",
      "metadata": {}
    },
    {
      "cell_type": "code",
      "source": "manuel_perez_intereses.add(\"computación cuántica\")\nmanuel_perez_intereses",
      "metadata": {},
      "execution_count": null,
      "outputs": []
    },
    {
      "cell_type": "markdown",
      "source": "Pero si intentamos añadir un elemento que ya está presente, simplemente obtendremos exactamente el mismo conjunto que antes, porque Python detecta que crearía una entrada duplicada e ignora nuestros intentos de añadirla de nuevo:\n",
      "metadata": {}
    },
    {
      "cell_type": "code",
      "source": "manuel_perez_intereses.add(\"relatividad general\")\nmanuel_perez_intereses",
      "metadata": {},
      "execution_count": null,
      "outputs": []
    },
    {
      "cell_type": "markdown",
      "source": "Los conjuntos son muy útiles si quieres comparar colecciones de elementos. Esto se hace utilizando **[la lógica de conjuntos](https://edu.gcfglobal.org/es/los-conjuntos/operaciones-entre-conjuntos/1/)**. Por ejemplo, queríamos saber qué intereses tienen en común nuestros académicos: esto se llama **intersección** de conjuntos. Si te imaginas un conjunto como un círculo, así es como se vería la intersección de dos conjuntos (círculos):\n\n![Intersección entre dos conjuntos](data/images/intersection_two.png)\n\nLa intersección de dos conjuntos te da todos los elementos que están presentes en *ambos conjuntos*. La sintaxis para hacerlo en Python es\n\n\n```python\nA & B\n```\n\n\ndonde `A` y `B` son conjuntos. Así, si quisiéramos encontrar la intersección de los intereses de la Dra. Esneda Lopez y el Dr. Mario Bustamante, haríamos lo siguiente:\n",
      "metadata": {}
    },
    {
      "cell_type": "code",
      "source": "esneda_lopez_intereses & mario_bustamante_intereses",
      "metadata": {},
      "execution_count": null,
      "outputs": []
    },
    {
      "cell_type": "markdown",
      "source": "Esto nos muestra efectivamente los temas que están tanto en `esneda_lopez_intereses` *como en* `mario_bustamante_intereses`.\n",
      "metadata": {}
    },
    {
      "cell_type": "markdown",
      "source": "### Ejercicio 1\n\nEncuentra los intereses que tienen en común el Dr. Mario Bustamante y el Dr. Daniel Castillo. ¿Y los intereses que tienen en común los cuatro candidatos?\n",
      "metadata": {}
    },
    {
      "cell_type": "markdown",
      "source": "**Respuesta.**",
      "metadata": {
        "tags": [
          "ans_st"
        ]
      }
    },
    {
      "cell_type": "markdown",
      "source": "-------",
      "metadata": {}
    },
    {
      "cell_type": "markdown",
      "source": "El resultado de la intersección de todos los conjuntos, `set()`, se llama **conjunto vacío**. Si te fijas bien, verás que la Dra. Esneda Lopez, el Dr. Mario Bustamante y el Dr. Daniel Castillo tienen en común las `matemáticas aplicadas`. Sería un diagrama como éste:\n\n![Intersección entre tres conjuntos](data/images/intersection_three.png)\n\nPero cuando lo intersectas con los intereses de la Dr. Manuel Perez, el resultado es el conjunto vacío, porque el Dr. Manuel Perez no está interesado en las `matemáticas aplicadas`. Se trata de una intersección vacía.\n\nPuedes comprobar que este conjunto está vacío llamando a la función **`len()`**, que te indica el número de elementos del conjunto:",
      "metadata": {}
    },
    {
      "cell_type": "code",
      "source": "intereses_comunes_todos = esneda_lopez_intereses & mario_bustamante_intereses & daniel_castillo_intereses & manuel_perez_intereses\nlen(intereses_comunes_todos)",
      "metadata": {},
      "execution_count": null,
      "outputs": []
    },
    {
      "cell_type": "markdown",
      "source": "Puedes utilizar la palabra clave **`in`** para comprobar que `relatividad general` está en el conjunto de asignaturas del Dr. Manuel Perez, mientras que no está en el de la Dra. Esneda Lopez:",
      "metadata": {}
    },
    {
      "cell_type": "code",
      "source": "print(\"relatividad general\" in manuel_perez_intereses)\nprint(\"relatividad general\" in esneda_lopez_intereses)",
      "metadata": {},
      "execution_count": null,
      "outputs": []
    },
    {
      "cell_type": "markdown",
      "source": "Ahora vamos a averiguar qué intereses tiene el Dr. Mario Bustamante que *no* tiene la Dra. Esneda Lopez. Esto se llama **diferencia de conjunto**:\n",
      "metadata": {}
    },
    {
      "cell_type": "code",
      "source": "mario_bustamante_intereses - esneda_lopez_intereses",
      "metadata": {},
      "execution_count": null,
      "outputs": []
    },
    {
      "cell_type": "markdown",
      "source": "Si quisiéramos encontrar lo contrario, es decir, qué intereses tiene la Dra. Esneda Lopez que no están en los intereses del Dr. Mario Bustamante, haríamos esto:\n",
      "metadata": {}
    },
    {
      "cell_type": "code",
      "source": "esneda_lopez_intereses - mario_bustamante_intereses",
      "metadata": {},
      "execution_count": null,
      "outputs": []
    },
    {
      "cell_type": "markdown",
      "source": "Puedes visualizarlo comparando las diferencias de estos dos conjuntos. Efectivamente, son diferentes:\n\n![\"Set difference\"](data/images/set_difference_1.png) ![\"Set difference reversed\"](data/images/set_difference_2.png)\n\nSabemos que al Dr. Mario Bustamante le interesan la economía laboral, la literatura medieval y la estadística, mientras que a la Dra. Esneda Lopez no. Y sabemos que a la Dra. Esneda Lopez le interesan la teoría de los números y la topología, mientras que al Dr. Mario Bustamante no. Por tanto, el conjunto de todos los intereses que *no* son comunes entre esos dos colegas es\n\n* `economía laboral`\n* `literatura medieval`\n* `estadística`\n* `teoría de los números`\n* `topología`\n\nEste conjunto se llama la **diferencia simétrica** entre los dos conjuntos. Es el resultado de unir las diferencias de ambos conjuntos. En nuestro diagrama de intersección de círculos, la diferencia simétrica sería así:\n\n![\\\"Diferencia simétrica\\\"](data/images/symmetric_difference.png)\n\nY éste sería el código (utilizamos un signo de acento circunflejo, `^`, como operador):",
      "metadata": {}
    },
    {
      "cell_type": "code",
      "source": "esneda_lopez_intereses ^ mario_bustamante_intereses",
      "metadata": {},
      "execution_count": null,
      "outputs": []
    },
    {
      "cell_type": "markdown",
      "source": "Averigüemos ahora cuántos intereses tiene en común cada académico con todos los demás:\n",
      "metadata": {}
    },
    {
      "cell_type": "code",
      "source": "el_mb = (esneda_lopez_intereses & mario_bustamante_intereses)\nprint(\"Dra. Esneda Lopez y Dr. Mario Bustamante:\", len(el_mb))\n\nel_dc = (esneda_lopez_intereses & daniel_castillo_intereses)\nprint(\"Dra. Esneda Lopez y Dr. Daniel Castillo:\", len(el_dc))\n\nel_mp = (esneda_lopez_intereses & manuel_perez_intereses)\nprint(\"Dra. Esneda Lopez y Dr. Manuel Perez:\", len(el_mp))\n\nmb_dc = (mario_bustamante_intereses & daniel_castillo_intereses)\nprint(\"Dr. Mario Bustamante y Dr. Daniel Castillo:\", len(mb_dc))\n\nmb_mp = (mario_bustamante_intereses & manuel_perez_intereses)\nprint(\"Dr. Mario Bustamante y Dr. Manuel Perez:\", len(mb_mp))\n\ndc_mp = (daniel_castillo_intereses & manuel_perez_intereses)\nprint(\"Dr. Daniel Castillo y Dr. Manuel Perez:\", len(dc_mp))",
      "metadata": {},
      "execution_count": null,
      "outputs": []
    },
    {
      "cell_type": "markdown",
      "source": "Para terminar este apartado, vamos a imprimir el conjunto de *todos* los intereses que los solicitantes declararon. Esta sería la **unión** de los conjuntos, es decir, el conjunto que incluye todos los elementos que están en cualquiera de los conjuntos. La unión de dos conjuntos estaría representada por este diagrama:\n\n![Unión](data/images/union.png)\n\nO, si resultan ser disjuntos (es decir, si no tienen intersección), por este diagrama:\n\n![Unión disjunta](data/images/union_disjoint.png)\n\nEste es el código para obtener la unión de los cuatro conjuntos de intereses (utilizamos una barra vertical, `|`, como operador):\n",
      "metadata": {}
    },
    {
      "cell_type": "code",
      "source": "esneda_lopez_intereses | mario_bustamante_intereses | daniel_castillo_intereses | manuel_perez_intereses",
      "metadata": {},
      "execution_count": null,
      "outputs": []
    },
    {
      "cell_type": "markdown",
      "source": "Datos de contacto\n-----------------\n\nSe pidió a los solicitantes que proporcionaran sus números de teléfono y correos electrónicos *por orden de prioridad* (o sea, empezando por el correo que más revisan y terminando en el que menos revisan, y lo mismo con los números de teléfono), lo que significa que los conjuntos no serían suficientes para codificar toda la información que queremos conservar (los conjuntos ignoran por completo el orden de sus elementos). Una opción es utilizar **listas** en vez de conjuntos.\n\nUna lista se crea igual que un conjunto, con la diferencia de que en lugar de llaves (`{` y `}`), utilizamos corchetes (`[` y `]`). Se accede a los elementos de una lista indicando su posición numérica en la lista, *empezando por el cero* (¡no por el uno!). Así, para obtener el segundo elemento de la siguiente lista, escribiríamos:",
      "metadata": {}
    },
    {
      "cell_type": "code",
      "source": "mi_lista = [\"Uno\", \"Dos\", \"Tres\", \"Cuatro\", \"Cuatro\"]\nmi_lista[1]",
      "metadata": {},
      "execution_count": null,
      "outputs": []
    },
    {
      "cell_type": "markdown",
      "source": "Esto no da como resultado `Uno` (el primer elemento de la lista), como cabría esperar, sino que da como resultado `Dos` (el segundo elemento de la lista). Además, las listas admiten duplicados, como puedes comprobar`(Cuatro` aparece dos veces):\n",
      "metadata": {}
    },
    {
      "cell_type": "code",
      "source": "mi_lista",
      "metadata": {},
      "execution_count": null,
      "outputs": []
    },
    {
      "cell_type": "markdown",
      "source": "Puedes **rebanar** una lista definiendo un índice inicial y un índice final y separándolos con dos puntos (`:`), así:\n",
      "metadata": {}
    },
    {
      "cell_type": "code",
      "source": "mi_lista[1:4] # Esto retorna los elementos en las posiciones 1, 2 y 3 (es decir, 4 no esta incluido)",
      "metadata": {},
      "execution_count": null,
      "outputs": []
    },
    {
      "cell_type": "markdown",
      "source": "Estos son los datos de contacto de los cuatro académicos:\n\n* **Dra. Esneda Lopez**:\n    -   Teléfono: +57 310-385-3123, +57 310-684-1514\n    -   Correo electrónico: esneda.lopez@unk.edu, esnedal7897@gmail.com\n* **Dr. Mario Bustamante**:\n    -   Teléfono: +57 316-831-5725, +57 320-832-3841\n    -   Correo electrónico: mariob@mij.edu, mario_bustamante@outlook.com\n* **Dr. Daniel Castillo**:\n    -   Teléfono: +57 315-4179187, +57 318-3877139\n    -   Correo electrónico: estadisticas@nru.ac.co, danicas@yahoo.co\n* **Dr. Manuel Perez**:\n    -   Teléfono: +57 318 715 0531, +57 313 908 8126\n    -   Correo electrónico: manuel.perez@nua.edu.co, manuelp66@gmail.com\n\nCodifiquemos los datos de contacto de la Dra. Esneda Lopez. Empecemos por sus números de teléfono:\n",
      "metadata": {}
    },
    {
      "cell_type": "code",
      "source": "esneda_lopez_telefonos = [\"+57 310-385-3123\", \"+57 310-684-1514\"]\nesneda_lopez_telefonos",
      "metadata": {},
      "execution_count": null,
      "outputs": []
    },
    {
      "cell_type": "markdown",
      "source": "Podemos acceder a su número de teléfono preferido utilizando el **índice de posición** `0` (el primer elemento de esta lista):\n",
      "metadata": {}
    },
    {
      "cell_type": "code",
      "source": "esneda_lopez_telefonos[0]",
      "metadata": {},
      "execution_count": null,
      "outputs": []
    },
    {
      "cell_type": "markdown",
      "source": "Y aquí está lo mismo para sus correos electrónicos:\n",
      "metadata": {}
    },
    {
      "cell_type": "code",
      "source": "esneda_lopez_correos = [\"esneda.lopez@unk.edu\", \"esnedal7897@gmail.com\"]\nesneda_lopez_correos[0]",
      "metadata": {},
      "execution_count": null,
      "outputs": []
    },
    {
      "cell_type": "markdown",
      "source": "### Ejercicio 2\n\nTraslada los números de teléfono del Dr. Mario Bustamante a una lista de Python y accede a su segunda opción de número de teléfono.\n",
      "metadata": {}
    },
    {
      "cell_type": "markdown",
      "source": "**Respuesta.**",
      "metadata": {
        "tags": [
          "ans_st"
        ]
      }
    },
    {
      "cell_type": "markdown",
      "source": "-------",
      "metadata": {}
    },
    {
      "cell_type": "markdown",
      "source": "Una forma alternativa de recuperar su segunda opción de número de teléfono aprovecharía el hecho de que es el último elemento de la lista. En Python, puedes tener **índices negativos** que funcionan igual que un índice ordinario, sólo que empezando por la derecha hacia la izquierda. Así,\n",
      "metadata": {}
    },
    {
      "cell_type": "code",
      "source": "mario_bustamante_telefonos[-1]",
      "metadata": {},
      "execution_count": null,
      "outputs": []
    },
    {
      "cell_type": "markdown",
      "source": "Te dará el mismo resultado. Si quisieras obtener el primer elemento de la lista, utilizarías lo siguiente\n",
      "metadata": {}
    },
    {
      "cell_type": "code",
      "source": "mario_bustamante_telefonos[-2] # Equivalente a mario_bustamante_telefonos[0] en este caso, porque la lista tiene dos elementos",
      "metadata": {},
      "execution_count": null,
      "outputs": []
    },
    {
      "cell_type": "markdown",
      "source": "Este es el código para trasladar los datos restantes:\n",
      "metadata": {}
    },
    {
      "cell_type": "code",
      "source": "mario_bustamante_correos = [\"mariob@mij.edu\", \"mario_bustamante@outlook.com\"]\ndaniel_castillo_telefonos = [\"+57 315-4179187\", \"+57 318-3877139\"]\ndaniel_castillo_correos = [\"estadisticas@nru.ac.co\", \"danicas@yahoo.co\"]\nmanuel_perez_telefonos = [\"+57 318 715 0531\", \"+57 313 908 8126\"]\nmanuel_perez_correos = [\"manuel.perez@nua.edu.co\", \"manuelp66@gmail.com\"]",
      "metadata": {},
      "execution_count": null,
      "outputs": []
    },
    {
      "cell_type": "markdown",
      "source": "El siguiente paso sería consolidar todas estas listas en un único directorio. Para ello, puedes **anidarlas** dentro de otra lista, creando así una *lista de listas* para cada persona, así:\n",
      "metadata": {}
    },
    {
      "cell_type": "code",
      "source": "esneda_lopez = [esneda_lopez_telefonos, esneda_lopez_correos, esneda_lopez_intereses]\nmario_bustamante = [mario_bustamante_telefonos, mario_bustamante_correos, mario_bustamante_intereses]\ndaniel_castillo = [daniel_castillo_telefonos, daniel_castillo_correos, daniel_castillo_intereses]\nmanuel_perez = [manuel_perez_telefonos, manuel_perez_correos, manuel_perez_intereses]\n\n# Inspeccionando los datos de Esneda Lopez\nesneda_lopez",
      "metadata": {},
      "execution_count": null,
      "outputs": []
    },
    {
      "cell_type": "markdown",
      "source": "Cuando inspeccionamos `esneda_lopez`, vemos que tenemos una lista, `esneda_lopez`, que tiene otras dos listas dentro, una correspondiente a sus números de teléfono y otra a sus correos electrónicos. Son listas anidadas. El tercer elemento de la lista es un conjunto: el conjunto de intereses que hemos creado antes.\n\nPero ahora podemos ir más allá y anidar de nuevo estas listas para crear nuestro directorio unificado:\n",
      "metadata": {}
    },
    {
      "cell_type": "code",
      "source": "# Esta es una lista que contiene listas que contienen listas!\ndirectorio = [\n    esneda_lopez,\n    mario_bustamante,\n    daniel_castillo,\n    manuel_perez\n]\n\ndirectorio",
      "metadata": {},
      "execution_count": null,
      "outputs": []
    },
    {
      "cell_type": "markdown",
      "source": "Ahora, digamos que queremos mostrar el correo electrónico principal del Dr. Manuel Perez. Tendríamos que conseguirlo utilizando indexación posicional. En primer lugar, sabemos que él es el último elemento del directorio (por tanto, el índice `3`, o `-1` si quieres utilizar la indexación negativa), luego vemos que los correos electrónicos son el segundo elemento de su lista de datos personales (índice `1`), y finalmente observamos que los correos electrónicos primarios son siempre los primeros en la lista de correos electrónicos (índice `0`). Entonces la forma de acceder a este elemento sería",
      "metadata": {}
    },
    {
      "cell_type": "code",
      "source": "directorio[3][1][0] # Equivalente al directorio[-1][1][0] con el indice negativo",
      "metadata": {},
      "execution_count": null,
      "outputs": []
    },
    {
      "cell_type": "markdown",
      "source": "Fíjate en que hemos trabajado de forma jerárquica, empezando por la lista más externa (la que anida todo lo demás) y trabajando hacia dentro, creando múltiples índices posicionales por el camino.\n\n**Nota**. Existe otro tipo de colección en Python llamado **tupla**. Las tuplas son muy similares a las listas, con la diferencia de que no puedes modificarlas después de haberlas creado (sí puedes hacerlo con las listas). Si necesitas alterar el contenido de una tupla, tendrás que reescribirla desde cero. Esta propiedad es útil a veces, pero las listas suelen ser la opción preferida en la mayoría de los casos. Para crear una tupla, utiliza paréntesis ordinarios:\n",
      "metadata": {}
    },
    {
      "cell_type": "code",
      "source": "mi_tupla = (\"Uno\", \"Dos\", \"Tres\", \"Cuatro\", \"Cuatro\")\nmi_tupla[1]",
      "metadata": {},
      "execution_count": null,
      "outputs": []
    },
    {
      "cell_type": "markdown",
      "source": "Haciendo que el directorio sea más fácil de usar\n---------------------------------------------\n\nLa lista `directorio` es estupenda: tiene todos los datos que necesitamos y es fácilmente accesible. Sin embargo, tiene el inconveniente de que si quieres recuperar un correo electrónico o un teléfono concretos, o el conjunto de intereses de una persona, tienes que conocer muy bien la estructura de la lista y escribir muy meticulosamente para no pasar el número de índice equivocado. Por ejemplo, al extraer el correo electrónico del Dr. Manuel Pérez tuvimos que pasar correctamente tres índices, ¡es fácil equivocarse cuando hay que poner tantos números manualmente!\n\nEsta dificultad puede superarse utilizando **diccionarios**. Los diccionarios son colecciones en las que puedes asignar **claves** a sus elementos, de modo que en lugar de acceder a los elementos utilizando un índice posicional, simplemente le pides a Python que te consiga el elemento (llamado **valor**) que corresponde a una clave determinada. Los diccionarios no pueden tener claves duplicadas, pero puedes tener valores duplicados siempre que tengan claves diferentes. Al igual que las listas, los diccionarios son **mutables** (es decir, puedes modificar su contenido sin tener que volver a crear el diccionario), pero se parecen a los conjuntos en que no conservan el orden de los elementos.\n\nLos diccionarios se crean utilizando esta sintaxis:",
      "metadata": {}
    },
    {
      "cell_type": "code",
      "source": "mi_diccionario = {\n    \"Uno\":\"Este es el número 1\",\n    \"Dos\":2,\n    \"Cuatro\":4,\n    \"Otro Cuatro\":4,\n    \"Tres\":[\"Esta\", \"es\", \"una\", \"lista\", \"de\", \"palabras\"],\n}",
      "metadata": {},
      "execution_count": null,
      "outputs": []
    },
    {
      "cell_type": "markdown",
      "source": "Y se accede a sus elementos así:\n",
      "metadata": {}
    },
    {
      "cell_type": "code",
      "source": "mi_diccionario[\"Uno\"]",
      "metadata": {},
      "execution_count": null,
      "outputs": []
    },
    {
      "cell_type": "markdown",
      "source": "Así que hagamos del `directorio` un diccionario (observa cómo anidamos los diccionarios dentro del diccionario):\n",
      "metadata": {}
    },
    {
      "cell_type": "code",
      "source": "directorio_diccionario ={\n    \"esneda_lopez\":{ # La clave es esneda_lopez y el valor es otro diccionario\n        \"telefonos\":esneda_lopez_telefonos,\n        \"correos\":esneda_lopez_correos,\n        \"intereses\":esneda_lopez_intereses,\n    },\n    \"mario_bustamente\":{\n        \"telefonos\":mario_bustamante_telefonos,\n        \"correos\":mario_bustamante_correos,\n        \"intereses\":mario_bustamante_intereses,\n    },\n    \"daniel_castillo\":{\n        \"telefonos\":daniel_castillo_telefonos,\n        \"correos\":daniel_castillo_correos,\n        \"intereses\":daniel_castillo_intereses,\n    },\n    \"manuel_perez\":{\n        \"telefonos\":manuel_perez_telefonos,\n        \"correos\":manuel_perez_correos,\n        \"intereses\":manuel_perez_intereses,\n    },\n}",
      "metadata": {},
      "execution_count": null,
      "outputs": []
    },
    {
      "cell_type": "markdown",
      "source": "Ahora es mucho más fácil mostrar la dirección de correo electrónico principal del Dr. Manuel Perez. Primero determinamos la clave de los datos de contacto de la persona (`manuel_perez`), luego encontramos la clave de los datos del correo electrónico (`emails`) y después accedemos al índice 0 de la lista resultante (codificamos los `emails` como una lista anidada dentro del diccionario, para conservar el orden de los elementos):",
      "metadata": {}
    },
    {
      "cell_type": "code",
      "source": "directorio_diccionario[\"manuel_perez\"][\"correos\"][0]",
      "metadata": {},
      "execution_count": null,
      "outputs": []
    },
    {
      "cell_type": "markdown",
      "source": "### Ejercicio 3\n\nUtilizando `directorio_diccionario`, muestra los intereses del Dr. Daniel Castillo. ¿Qué tipo de estructura de datos es la salida resultante?\n",
      "metadata": {}
    },
    {
      "cell_type": "markdown",
      "source": "**Respuesta.**",
      "metadata": {
        "tags": [
          "ans_st"
        ]
      }
    },
    {
      "cell_type": "markdown",
      "source": "-------",
      "metadata": {}
    },
    {
      "cell_type": "markdown",
      "source": "Tips para recordar\n------------------\n\nEn este caso, has aprendido algunas estructuras de datos básicas en Python y algunas de sus propiedades más importantes:\n\n* **Conjuntos**. Si el orden no importa, puedes almacenar elementos en conjuntos. Los conjuntos no admiten duplicados y no te permiten acceder a los elementos por indexación posicional (es decir, indicando la posición que tiene el elemento en el objeto), porque no tienen orden de forma natural. No puedes modificar los elementos de un conjunto, pero puedes añadir nuevos elementos. Puedes realizar varios tipos de operaciones con conjuntos, como las intersecciones de conjuntos, las diferencias de conjuntos y las uniones de conjuntos; todas ellas entran en la lógica de conjuntos.\n* **Listas**. Toda lista está ordenada. Las listas admiten duplicados y te permiten acceder a los elementos mediante indexación posicional. Puedes eliminar, añadir o modificar elementos de una lista sin necesidad de volver a crearla.\n* **Tuplas**. Son básicamente como las listas, con la diferencia de que las tuplas son inmutables. Esto significa que si quieres modificar el contenido de una tupla, tienes que crearla desde cero con los datos modificados.\n* **Diccionarios**. Los diccionarios se parecen mucho a las listas (y también son mutables), pero no se accede a los elementos mediante índices posicionales. En su lugar, utilizas los nombres de las claves. Los diccionarios no pueden tener claves duplicadas, pero puedes tener valores duplicados siempre que tengan claves diferentes. Es importante destacar que, al igual que los conjuntos, los diccionarios *no* conservan el orden de los elementos.",
      "metadata": {}
    },
    {
      "cell_type": "markdown",
      "source": "Hoja de trucos de `set`, `list`, `tuple` y `dict`\n-------------------------------------------------\n\nNo podemos abarcar aquí todo lo que se puede aprender sobre las estructuras de datos de Python, así que aquí tienes una hoja de trucos que hemos elaborado para tu futura referencia:\n\n### Métodos de conjuntos\n\n* Inicialización de un conjunto: `mi_conjunto = {13, 47, 56}`.\n* Inicialización de un conjunto vacío: `mi_conjunto = set()`.\n* Unión: ` A | B`\n* Intersección: ` A & B`\n* Diferencia: `A - B` o `B - A` (esta operación no es [conmutativa](https://es.wikipedia.org/wiki/Conmutatividad))\n* Diferencia simétrica: `A ^ B`\n* Prueba de pertenencia: `elemento in A`\n* Añadir un elemento a un conjunto: `A.add(elemento)`\n* Eliminar un elemento de un conjunto: `A.remove(elemento)`\n* Eliminar todos los elementos de un conjunto: `A.clear()`\n* Hallar el tamaño de un conjunto: `len(mi_conjunto)`\n\nPuedes aprovechar el hecho de que los conjuntos no permiten duplicados para eliminar los duplicados de una lista, convirtiéndola en un conjunto y volviendo a convertirla en una lista. Por ejemplo, si tienes una lista\n\n\n~~~python\nlista_con_duplicados = [1,2,2,2,3]\n~~~\n\n\nPuedes hacer esto para obtener una lista con los duplicados eliminados:\n\n\n~~~python\nlista_sin_duplicados = list( set(lista_con_duplicados) )\nlista_sin_duplicados\n~~~\n\n\n### Métodos de la lista\n\n* Crear una lista: `mi_lista = [1,2, 2, 3]`\n* Crear una lista vacía: `mi_lista = []`\n* Añadir un elemento al final de una lista: `mi_lista.append(elemento)`\n* Añadir una lista al final de otra lista: `mi_lista.extend(otra_lista)`\n* Recuperar un elemento de la lista: `mi_lista[indice_posicion]`\n* Recuperar un trozo de la lista: `mi_lista[posicion_inicial:posicion_final]`\n* Eliminar un elemento en función del valor: `mi_lista.remove(valor)` (esto eliminará el primer elemento de la lista que tenga un valor de `valor`)\n* Eliminar un elemento en función del índice de posición: `del mi_lista[indice_posicion]` (también se puede utilizar para remover rebanadas)\n* Recuperar un valor y eliminarlo de la lista al mismo tiempo: `mi_lista.pop([indice_posicion])`\n* Eliminar todos los elementos de una lista: `mi_lista.clear( )`\n* Mostrar el índice del primer elemento que tiene un valor determinado: `mi_lista.index(valor)`\n* Contar el número de veces que aparece un valor en una lista: `mi_lista.count(valor)`\n* Ordenar los elementos de la lista: `mi_lista.sort()` (para ordenar Z-A, utiliza `mi_lista.sort(reverse=True)`\n* Invertir el orden actual de los elementos de una lista: `mi_lista.reverse()`\n* Crear una copia de la lista: `mi_lista.copy()`\n* Hallar de la longitud de una lista: `len(mi_lista)`\n* Prueba de pertenencia: `elemento in mi_lista`\n\n### Métodos de tupla\n\n* Crear una tupla: `mi_tupla = (1 ,2,2,3)`\n* Creación de una tupla vacía: `mi_tupla = ()`\n* Crear una tupla con un elemento: `mi_tupla = (\"Un elemento\", )` (fíjate en la coma)\n* Recuperar un elemento de la tupla: `mi_tupla[indice_posicion]`\n* Recuperar una porción de la tupla: `mi_tupla[posicion_inicial:posicion_final]`\n* Concatenar dos tuplas: `tupla1 + tupla2`\n* Repetir una tupla varias veces: `mi_tupla * numero_de_veces_a_repetir`\n* Hallar la longitud de una tupla: `len(mi_tupla)`\n* Prueba de pertenencia: `elemento in mi_tupla`\n\n### Métodos de diccionario\n\n* Crear un diccionario: `mi_diccionario = {\"clave\": \"valor\", \"otra_clave\": \"otro_valor\", }`\n* Recuperar el valor que corresponde a una clave determinada: `mi_diccionario[\"clave\"]`. Alternativamente, `mi_diccionario.get(\"clave\")`. \n* Eliminar un elemento del diccionario en función de la clave: `del mi_diccionario[\"clave\"]`.\n* Listar todas las claves del diccionario: `list(mi_diccionario)`\n* Prueba de pertenencia: `clave in mi_diccionario`\n* Sustituir / crear un elemento: `mi_diccionario[\"clave\"] = valor`\n* Eliminar todos los elementos de un diccionario: `mi_diccionario.clear()`\n* Devolver una copia del diccionario: `mi_diccionario.copy()`\n* Recuperar un valor y eliminarlo del diccionario al mismo tiempo: `mi_diccionario.pop(\"clave\")`\n* Hallar la longitud de un diccionario: `len(mi_diccionario)`\n\nPuedes encontrar más información sobre las estructuras de datos de Python en la [documentación](https://docs.python.org/3/tutorial/datastructures.html).",
      "metadata": {}
    },
    {
      "cell_type": "markdown",
      "source": "Créditos\n--------\n\n\nVenn0001.svg. Wikimedia Commons. Public Domain. https://commons.wikimedia.org/wiki/File:Venn0001.svg\n\nVenn 0000 0001.svg. Wikimedia Commons. Public Domain. https://commons.wikimedia.org/wiki/File:Venn\\_0000\\_0001.svg\n\nVenn0010.svg. Wikimedia Commons. Public Domain. https://commons.wikimedia.org/wiki/File:Venn0010.svg\n\nVenn0110.svg. Wikimedia Commons. Public Domain. https://commons.wikimedia.org/wiki/File:Venn0110.svg\n\nVenn0111.svg. Wikimedia Commons. Public Domain. https://commons.wikimedia.org/wiki/File:Venn0111.svg\n\n",
      "metadata": {}
    }
  ]
}