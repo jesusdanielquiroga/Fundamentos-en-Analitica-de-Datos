{
  "cells": [
    {
      "cell_type": "markdown",
      "id": "8ea6a564",
      "metadata": {},
      "source": [
        "# ¡Bienvenidos al maravilloso mundo de los datos!"
      ]
    },
    {
      "cell_type": "markdown",
      "id": "e5e03c42",
      "metadata": {},
      "source": [
        "## Introducción\n",
        "\n",
        "\n",
        "En las últimas décadas se han producido avances astronómicos en la potencia de los computadores y la interconectividad de los dispositivos. Se ha llegado a un punto en el que podemos aprovechar el poder de una gran cantidad de datos para tomar mejores decisiones, cada vez más rápido. En los últimos 5 años aproximadamente, el campo de trabajo dedicado a hacer todo lo necesario para que esto ocurra se ha convertido en lo que ahora se conoce como **ciencia de los datos**.\n",
        "\n",
        "La ciencia de los datos está en auge en este momento, con muchas oportunidades de innovación y de generación de empleo en todas las industrias. Pero, ¿quién es exactamente un \"Científico de Datos\"? ¿Qué hacen en el día a día? ¿Qué herramientas utilizan?\n",
        "\n",
        "### La \"Ciencia de datos\" es un término erróneo\n",
        "\n",
        "Lo primero es lo primero: *La inmensa mayoría de trabajos que aprovechan las habilidades de datos NO son trabajos de \"científico de datos\"*. Esto significa que el término \"ciencia de los datos\" es un término erróneo. Tipologías de puestos de trabajo como \"Analista de datos\", \"Ingeniero de datos\" y \"Analista de inteligencia de negocios\" (entre otros) tienen muchos más puestos de trabajo que el de \"Científico de datos\", aunque siguen aprovechando las habilidades de datos en gran medida. De hecho, un gran número de empleos de \"científico de datos\" están mal clasificados y encajarían mejor en una de las otras tres familias de empleos mencionadas anteriormente.\n",
        "\n",
        "En cualquier caso, todos estos puestos de trabajo se engloban bajo la sombrilla general de **profesionales de datos**. Un profesional de datos es alguien que combina los conocimientos de 3 disciplinas principales en alguna combinación (la combinación exacta dependerá del tipo de rol):\n",
        "\n",
        "* **Matemáticas y Estadística (sobre todo estadística).** De aquí necesitamos las habilidades de análisis y modelado, que es el arte de deducir y representar cosas sobre el mundo utilizando principios lógicos. Los conocimientos matemáticos, especialmente de álgebra lineal, son a veces necesarios o muy útiles también.\n",
        "* **Ciencias de la computación.** Aquí necesitamos la habilidad de codificación o programación, que es la práctica de escribir instrucciones que un computador pueda entender para dar vida a nuestro análisis y modelado.\n",
        "* **Experiencia de Negocio.** La necesitamos para orientar nuestro análisis y modelado y para actuar correctamente en función de sus resultados.\n",
        "\n",
        "![Venn](data/images/es_venn.png)"
      ]
    },
    {
      "cell_type": "markdown",
      "id": "c2227b16",
      "metadata": {},
      "source": [
        "## Herramientas de un profesional de datos\n",
        "\n",
        "Empecemos con las herramientas informáticas más básicas de un profesional de los datos."
      ]
    },
    {
      "cell_type": "markdown",
      "id": "58998327",
      "metadata": {},
      "source": [
        "### El lenguaje de programación\n",
        "\n",
        "Para codificar algo para que nuestro computador lo ejecute, debemos comunicarnos con él en un lenguaje que tanto nosotros como el computador podamos entender. Este lenguaje común se conoce como **lenguaje de programación**. Un lenguaje de programación traduce instrucciones entendibles por un humano en instrucciones que entiende el computador, lo que se conoce comúnmente como **código de máquina**.\n",
        "\n",
        "Los lenguajes de programación tienen algunas cosas en común con lenguas como el inglés o el español. Por ejemplo (¡y esto es muy importante!) son (o deberían ser) comprensibles por los humanos. Al igual que el inglés o el español, tienen reglas sobre cómo deben utilizarse (es decir, ortografía, gramática, sintaxis).\n",
        "\n",
        "Sin embargo, los lenguajes de programación son mucho más estrictos a la hora de aplicar estas reglas que los lenguajes humanos. Si no se siguen exactamente las reglas de un lenguaje de programación, tu programa no **compilará**, lo que significa que el computador no sera capaz de traducir tus instrucciones a código máquina. Por otro lado, el hecho de que sean estrictos facilita que un grupo de personas lea y trabaje en el código conjuntamente (una gran ventaja, ya que las grandes cosas suelen crearse en equipo), y permite que sea fácil determinar sin ambigüedades qué tarea es la que busca ejecutar el código.\n",
        "\n",
        "Hay muchos lenguajes de programación, pero para este programa y para la mayoría de los trabajos de datos que existen, hay un rey por encima de todos...\n",
        "\n",
        "### ¡Hola Python!\n",
        "\n",
        "El lenguaje de programación preferido para el trabajo con datos hoy en día es **Python**. (Hay otros como R, Scala o Julia, pero están  muy por detrás en cuota de mercado y en la cantidad de funcionalidad que ofrecen para el trabajo con datos).\n",
        "\n",
        "![Python](data/images/python.png)\n",
        "\n",
        "Python es genial por 3 razones importantes:\n",
        "\n",
        "* Es fácil de aprender\n",
        "* Es fácil de leer (¡muchos otros lenguajes de programación no lo son!)\n",
        "* Es **de código abierto**, lo que significa que su uso es gratuito y, aún mejor, que otras personas de la comunidad Python añaden constantemente más funcionalidad al lenguaje de forma gratuita.\n",
        "\n",
        "Cuando vas a codificar un programa, casi nunca empiezas desde cero, sino que sueles utilizar el código que ha construido otra persona antes y que hace una cosa determinada. Por ejemplo, si quiero escribir un programa que analice datos y necesito encontrar el promedio de un conjunto de números, ¡no necesito escribir yo mismo el código que encuentra el promedio! Como se trata de un problema común, es probable que alguien ya haya creado un código específicamente para ese fin. Entonces puedo descargar esa funcionalidad de Internet, importarla a mi programa y utilizarla sin muchas complicaciones.\n",
        "\n",
        "Estas funcionalidades escritas por otras personas y utilizables por cualquiera en un lenguaje se llaman **librerias/bibliotecas** o **paquetes**. Python tiene librerias para cualquier cosa que se te ocurra. Para el ejemplo anterior, está la libreria `numpy`, que contiene funcionalidades para numerosos cálculos matemáticos. ¿Quieres algo para interactuar con archivos de Excel? Puedes utilizar `openpyxl`. ¿Imágenes? Tienes `Pillow`. Hay algo para todo: en este momento hay más de 200.000 paquetes de Python disponibles públicamente.\n"
      ]
    },
    {
      "cell_type": "markdown",
      "id": "d30cb4c5",
      "metadata": {},
      "source": [
        "### El IDE\n",
        "\n",
        "Un **Entorno de Desarrollo Integrado** (IDE por sus siglas en inglés, *Integrated Development Environment*) es la principal herramienta a la que recurrirás cuando escribas código. Los archivos de código no son en realidad más que archivos de texto, y podrían escribirse igualmente en Microsoft Word, el Bloc de notas o cualquier otro editor de texto. Pero ninguno de esos editores de texto básicos proporciona otras funcionalidades de codificación esenciales, como comprobar si has escrito una palabra clave en un lugar equivocado, o permitirte ejecutar tu código inmediatamente para comprobar si funciona.\n",
        "\n",
        "Esto significa que los IDE son esencialmente editores de texto con superpoderes, con funcionalidades que ayudan mucho al proceso de codificación. Uno de los más populares para trabajar con Python y datos es Jupyter, porque hace algo que casi ningún otro IDE permite: ¡te permite escribir y ejecutar código junto con texto estándar (similar a la combinación de un documento de Word con un archivo de código)!\n",
        "\n",
        "### Jupyter\n",
        "\n",
        "Esta capacidad es lo que hace que Jupyter sea muy especial para crear prototipos de proyectos, probar soluciones y crear entregables que incluyan no sólo código, sino también gráficos y texto y explicaciones. ¿Recuerdas cuando dijimos que realizar un análisis de datos requería no sólo codificar, sino también aprovechar nuestro conocimiento del negocio? Una parte, si no la más importante, del análisis de datos es explicar tus resultados a los demás, y Jupyter lo hace muy fácil.\n",
        "\n",
        "Lo hace a través de un formato de archivo llamado **cuaderno Jupyter**. ¡Ese es el tipo de archivo que estás viendo ahora mismo! Para crear un archivo de cuaderno Jupyter, empieza desde el Explorador de Archivos Jupyter que apareció inmediatamente después de lanzarlo. Navega hasta la carpeta en la que quieras crear tu nuevo archivo, y haz clic en el botón \"New\" (Nuevo) de la parte superior derecha y selecciona \"Python (Pyodide)\":\n",
        "\n",
        "![Crear nuevos archivos](data/images/new_notebook_jlite.png)\n",
        "\n",
        "Esto creará un nuevo archivo de cuaderno vacío. ¡Dale! ¡Crea uno! El archivo recién creado se abrirá en una nueva pestaña con el nombre `Untitled.ipynb` más adelante pudes renombrarlo."
      ]
    },
    {
      "cell_type": "markdown",
      "id": "f24c2d44",
      "metadata": {},
      "source": [
        "## Celdas\n",
        "\n"
      ]
    },
    {
      "cell_type": "markdown",
      "id": "9beac3f5",
      "metadata": {},
      "source": [
        "Verás una pantalla casi vacía, con una línea que dice `[ ]:`. Esta línea se conoce como celda de código:\n",
        "\n",
        "![Archivo vacío](data/images/empty_jlite.png)\n",
        "\n",
        "Los cuadernos Jupyter tienen un bloque de construcción llamado **celda**. Las celdas pueden ser de varios tipos, pero las dos más importantes son las **celdas de código** y las **celdas Markdown**. Las celdas de código, como la que tienes en tu archivo vacío, te permiten escribir y ejecutar código en el cuaderno. Las celdas Markdown, como la que estás leyendo ahora, te permiten colocar texto con formato (y otros elementos que no son de código, como la imagen de arriba) en el cuaderno.\n",
        "\n",
        "A continuación encontrarás una celda de código que calcula la suma de dos números e imprime (o sea, \"muestra\") el resultado en la pantalla. Mientras que las celdas de Markdown sólo tienen texto, las celdas de código tienen dos partes. La primera parte muestra el código en sí, y la segunda parte muestra lo que el código imprime después de ejecutarlo (haz clic en el bloque de código de abajo y luego pulsa `Ctrl+Enter` en tu teclado):\n"
      ]
    },
    {
      "cell_type": "code",
      "execution_count": null,
      "id": "9ef53e23",
      "metadata": {},
      "outputs": [],
      "source": [
        "resultado = 3 + 4\n",
        "print(f\"El resultado de 3 sumado con 4 es {resultado}\")"
      ]
    },
    {
      "cell_type": "markdown",
      "id": "b69acc12",
      "metadata": {},
      "source": [
        "Una cosa genial de las celdas de código es que puedes editarlas y volver a ejecutarlas de inmediato sin problemas. Por ejemplo, prueba a cambiar el valor 3 a 5 en la celda de código de arriba (en la parte que dice `resultado = 3 + 4`), y luego pulsa `Ctrl+Enter` para ejecutarla. ¡El texto de abajo debería cambiar también!\n"
      ]
    },
    {
      "cell_type": "markdown",
      "id": "7e08edab",
      "metadata": {},
      "source": [
        "### Editar y crear celdas\n",
        "\n",
        "Puedes convertir fácilmente una celda de código en una celda de Markdown, y viceversa. El párrafo de la siguiente imagen contiene algo de código, pero está en una celda Markdown, por lo que el código no se ejecuta. Para cambiarlo a una celda de código, sólo tienes que hacer doble clic en ella y, en el menú desplegable de la parte superior, cambiar la opción de Markdown a Código. A continuación, pulsa `Ctrl+Enter` para ejecutarlo."
      ]
    },
    {
      "cell_type": "markdown",
      "id": "9a6c0d22",
      "metadata": {},
      "source": [
        "![Cambiar el tipo de celda](data/images/changeCell_jlite.png)\n"
      ]
    },
    {
      "cell_type": "markdown",
      "id": "7a0cc99a",
      "metadata": {},
      "source": [
        "texto1 = 'Esto es una celda de código'\n",
        "\n",
        "texto2 = ' ¡Y los cuadernos Jupyter son increíbles!'\n",
        "\n",
        "textoFinal = texto1+texto2\n",
        "\n",
        "print(textoFinal)"
      ]
    },
    {
      "cell_type": "markdown",
      "id": "332e4b21",
      "metadata": {},
      "source": [
        "Ahora deberías poder ver el texto debajo de la celda de código mostrando una frase completa. Puedes probar más y editar los componentes de la frase para que el código imprima algo diferente.\n",
        "\n",
        "También puedes crear y eliminar celdas: en la barra de herramientas de la parte superior izquierda hay un signo \"+\" y un signo de tijera. El signo \"+\" crea una nueva celda inmediatamente debajo de la celda que tienes seleccionada, y el signo de las tijeras borra la celda que tienes seleccionada.\n",
        "\n",
        "Hay muchos otros botones útiles en la barra de herramientas superior, como copiar, pegar o reordenar celdas. Todas estas acciones tienen su correspondiente atajo de teclado. El atajo más importante es `Ctrl+S`, que guarda tu trabajo. ¡Asegúrate de usarlo a menudo! Para ver una lista completa de atajos, ve [aquí](https://gist.github.com/discdiver/9e00618756d120a8c9fa344ac1c375ac).\n",
        "\n",
        "Algunos de los atajos más útiles son:\n",
        "* `b` - crear una nueva celda debajo de la celda actual\n",
        "* `a` - crear una nueva celda encima de la celda actual\n",
        "* `c` - copiar la celda actual\n",
        "* `v` - pegar una celda copiada\n",
        "* `dd` - borrar la celda actual\n",
        "* `m` - convertir la celda actual en una celda de marcado\n",
        "* `y` - convertir la celda actual en una celda de código\n",
        "\n",
        "**Nota**: Debes pulsar la tecla de escape ('esc') antes de utilizar estos atajos."
      ]
    },
    {
      "cell_type": "markdown",
      "id": "33b2fda2",
      "metadata": {},
      "source": [
        "### Formateando las celdas Markdown\n",
        "\n",
        "Las celdas Markdown pueden formatearse para que tengan un aspecto más bonito y comprensible. Markdown no es exclusivo de los cuadernos Jupyter; de hecho, se utiliza de alguna forma para gran parte del texto que ves en las páginas web.\n",
        "\n",
        "Hay muchas formas de dar formato a tu texto. Por ejemplo, los títulos de este cuaderno están formateados para darles su énfasis y tamaño - ¡puedes hacer doble clic en ellos para comprobarlo! Para ver todas las opciones de formato que tienes a tu disposición, consulta esta [hoja de trucos](https://www.markdownguide.org/cheat-sheet/).\n"
      ]
    },
    {
      "cell_type": "markdown",
      "id": "2c5ed31d",
      "metadata": {},
      "source": [
        "### Controlando la ejecución de las celdas de código\n",
        "\n",
        "Hay otros cuatro botones en el menú principal que queremos llamar. \"Ejecutar\" ejecuta el código en la celda actual, lo cual es bastante sencillo (`Ctrl+Enter` también ejecuta la celda actual).\n",
        "\n",
        "El botón cuadrado negro es una señal de \"Stop\" e interrumpe el **núcleo** (piensa en el núcleo como el \"motor\" que ejecuta tu código en el entorno Jupyter). Esto significa que interrumpe cualquier ejecución de código que pueda estar en marcha en ese momento. Es importante saber que este botón existe, porque a veces puedes escribir un programa que se atasca y tarda mucho más de lo esperado o que claramente está haciendo algo totalmente diferente de lo que esperabas. En ese caso, puedes detener tu código con este botón.\n",
        "\n",
        "El botón de la flecha circular reinicia el núcleo. Esta es una versión más extrema de detener el núcleo. Cuando ejecutas el código, el núcleo guarda los resultados y las variables mientras trabajas. Cuando lo paras, esas variables siguen ahí. Pero cuando lo reinicias, todas las variables se pierden y vuelves a estar en blanco. A veces, detener el núcleo no es suficiente para resolver ciertos problemas, por lo que es necesario reiniciarlo por completo.\n",
        "\n",
        "El último botón con las 2 flechas hacia delante ejecuta todas las celdas del cuaderno de forma secuencial. Después de algún tiempo, habrá muchas celdas en tu cuaderno, y no querrás pasar por ellas y ejecutarlas manualmente. Este botón te permite ejecutar todo en un solo clic."
      ]
    },
    {
      "cell_type": "markdown",
      "id": "c131860d",
      "metadata": {},
      "source": [
        "## Ejercicio 1\n",
        "\n",
        "\n",
        "Selecciona y copia la siguiente linea de código `Ctrl+C`, pégala en una celda de código `Ctrl+V` y ejecútala `Ctrl+Enter`.\n",
        "\n",
        "```python\n",
        "import this\n",
        "```\n"
      ]
    },
    {
      "cell_type": "markdown",
      "id": "7a74a044",
      "metadata": {
        "tags": [
          "ans_st"
        ]
      },
      "source": [
        "**Respuesta.**"
      ]
    },
    {
      "cell_type": "code",
      "execution_count": null,
      "id": "067cb290",
      "metadata": {
        "tags": [
          "ans_cell"
        ]
      },
      "outputs": [],
      "source": []
    },
    {
      "cell_type": "markdown",
      "id": "d2ec7c0e",
      "metadata": {},
      "source": [
        "## Ejercicio 2\n",
        "\n",
        "\n",
        "Selecciona y copia las siguientes linea de código Ctrl+C, pégala en una celda de código Ctrl+V y ejecútala Ctrl+Enter.\n",
        "\n",
        "```python\n",
        "love = this\n",
        "print(love is True)\n",
        "print(love is False)\n",
        "print(love is not True or False)\n",
        "print(love is love)\n",
        "```\n"
      ]
    },
    {
      "cell_type": "markdown",
      "id": "277018f5",
      "metadata": {
        "tags": [
          "ans_st"
        ]
      },
      "source": [
        "**Respuesta.**"
      ]
    },
    {
      "cell_type": "code",
      "execution_count": null,
      "id": "83a45bbb",
      "metadata": {
        "tags": [
          "ans_cell"
        ]
      },
      "outputs": [],
      "source": []
    },
    {
      "cell_type": "markdown",
      "id": "84dd84c9",
      "metadata": {},
      "source": [
        "## Conclusión\n",
        "\n",
        "En este caso has aprendido lo que significa ser un profesional de los datos, las herramientas que necesitamos de  informática para ser un profesional de los datos eficaz, y lo que son un lenguaje de programación y un IDE.\n",
        "\n",
        "También aprendiste los fundamentos de cómo abrir, crear y editar archivos de Jupyter Notebook, y viste tus primeros fragmentos de código.\n",
        "\n",
        "En las próximas semanas puede que te sientas frustrado de vez en cuando. Esto es normal. Aprender a codificar no es soplar y hacer botellas, aunque sea Python. Pero es un camino gratificante, tanto personal como económicamente. En poco tiempo te darás cuenta de las grandes puertas que la programación puede abrirte como profesional y como ser humano.\n",
        "\n",
        "Y si alguna vez te sientes perdido, acude a tus instructores y a otros compañeros. ¡Muy pronto serás tú quien enseñe a otros!\n",
        "\n",
        "A continuación te dejamos un último ejercicio dale clic a los dos triangulos unidos para reiniciar el kernel del notebook y ver un ejemplo de código a continuación si deseas conocer de qué se trata el código a continuación puedes leer [este documento](https://es.wikipedia.org/wiki/Juego_de_la_vida)."
      ]
    },
    {
      "cell_type": "code",
      "execution_count": null,
      "id": "f96c780a",
      "metadata": {},
      "outputs": [],
      "source": [
        "%pip install -q ipycanvas"
      ]
    },
    {
      "cell_type": "code",
      "execution_count": null,
      "id": "2b86da5b",
      "metadata": {},
      "outputs": [],
      "source": [
        "import asyncio\n",
        "import numpy as np\n",
        "from ipycanvas import RoughCanvas, hold_canvas"
      ]
    },
    {
      "cell_type": "code",
      "execution_count": null,
      "id": "1ba40621",
      "metadata": {},
      "outputs": [],
      "source": [
        "def life_step(x):\n",
        "    \"\"\"Game of life step\"\"\"\n",
        "    nbrs_count = sum(np.roll(np.roll(x, i, 0), j, 1)\n",
        "                     for i in (-1, 0, 1) for j in (-1, 0, 1)\n",
        "                     if (i != 0 or j != 0))\n",
        "    return (nbrs_count == 3) | (x & (nbrs_count == 2))"
      ]
    },
    {
      "cell_type": "code",
      "execution_count": null,
      "id": "41a01bbf",
      "metadata": {},
      "outputs": [],
      "source": [
        "def draw(x, canvas, color='black'):\n",
        "    with hold_canvas(canvas):\n",
        "        canvas.clear()\n",
        "        canvas.fill_style = '#FFF0C9'\n",
        "        canvas.rough_fill_style = 'solid'\n",
        "        canvas.fill_rect(-10, -10, canvas.width + 10, canvas.height + 10)\n",
        "        canvas.rough_fill_style = 'cross-hatch'\n",
        "\n",
        "        canvas.fill_style = color\n",
        "        canvas.stroke_style = color\n",
        "\n",
        "        living_cells = np.where(x)\n",
        "        \n",
        "        rects_x = living_cells[1] * n_pixels\n",
        "        rects_y = living_cells[0] * n_pixels\n",
        "\n",
        "        canvas.fill_rects(rects_x, rects_y, n_pixels)\n",
        "        canvas.stroke_rects(rects_x, rects_y, n_pixels)"
      ]
    },
    {
      "cell_type": "code",
      "execution_count": null,
      "id": "368187ba",
      "metadata": {},
      "outputs": [],
      "source": [
        "glider_gun =\\\n",
        "[[0,0,0,0,0,0,0,0,0,0,0,0,0,0,0,0,0,0,0,0,0,0,0,0,1,0,0,0,0,0,0,0,0,0,0,0],\n",
        " [0,0,0,0,0,0,0,0,0,0,0,0,0,0,0,0,0,0,0,0,0,0,1,0,1,0,0,0,0,0,0,0,0,0,0,0],\n",
        " [0,0,0,0,0,0,0,0,0,0,0,0,1,1,0,0,0,0,0,0,1,1,0,0,0,0,0,0,0,0,0,0,0,0,1,1],\n",
        " [0,0,0,0,0,0,0,0,0,0,0,1,0,0,0,1,0,0,0,0,1,1,0,0,0,0,0,0,0,0,0,0,0,0,1,1],\n",
        " [1,1,0,0,0,0,0,0,0,0,1,0,0,0,0,0,1,0,0,0,1,1,0,0,0,0,0,0,0,0,0,0,0,0,0,0],\n",
        " [1,1,0,0,0,0,0,0,0,0,1,0,0,0,1,0,1,1,0,0,0,0,1,0,1,0,0,0,0,0,0,0,0,0,0,0],\n",
        " [0,0,0,0,0,0,0,0,0,0,1,0,0,0,0,0,1,0,0,0,0,0,0,0,1,0,0,0,0,0,0,0,0,0,0,0],\n",
        " [0,0,0,0,0,0,0,0,0,0,0,1,0,0,0,1,0,0,0,0,0,0,0,0,0,0,0,0,0,0,0,0,0,0,0,0],\n",
        " [0,0,0,0,0,0,0,0,0,0,0,0,1,1,0,0,0,0,0,0,0,0,0,0,0,0,0,0,0,0,0,0,0,0,0,0]]\n",
        "\n",
        "x = np.zeros((50, 70), dtype=bool)\n",
        "x[1:10,1:37] = glider_gun"
      ]
    },
    {
      "cell_type": "code",
      "execution_count": null,
      "id": "29f604a2",
      "metadata": {},
      "outputs": [],
      "source": [
        "n_pixels = 15\n",
        "\n",
        "canvas = RoughCanvas(width=x.shape[1]*n_pixels, height=x.shape[0]*n_pixels)\n",
        "canvas.fill_style = '#FFF0C9'\n",
        "canvas.rough_fill_style = 'solid'\n",
        "canvas.fill_rect(0, 0, canvas.width, canvas.height)\n",
        "\n",
        "canvas"
      ]
    },
    {
      "cell_type": "code",
      "execution_count": null,
      "id": "f8eb89b0",
      "metadata": {},
      "outputs": [],
      "source": [
        "draw(x, canvas, '#5770B3')"
      ]
    },
    {
      "cell_type": "code",
      "execution_count": null,
      "id": "13f1a222",
      "metadata": {},
      "outputs": [],
      "source": [
        "for _ in range(300):\n",
        "    x = life_step(x)\n",
        "    draw(x, canvas, '#5770B3')\n",
        "\n",
        "    await asyncio.sleep(0.1)"
      ]
    },
    {
      "cell_type": "markdown",
      "id": "c246b731",
      "metadata": {},
      "source": [
        "### ipycanvas: Juego de la Vida de John Conway\n",
        "\n",
        "El código presentado con anterioridad es aadaptado de: https://jakevdp.github.io/blog/2013/08/07/conways-game-of-life/"
      ]
    }
  ],
  "metadata": {
    "kernelspec": {
      "display_name": "Python 3 (ipykernel)",
      "language": "python",
      "name": "python3"
    },
    "language_info": {
      "codemirror_mode": {
        "name": "ipython",
        "version": 3
      },
      "file_extension": ".py",
      "mimetype": "text/x-python",
      "name": "python",
      "nbconvert_exporter": "python",
      "pygments_lexer": "ipython3",
      "version": "3.8.8"
    },
    "varInspector": {
      "cols": {
        "lenName": 16,
        "lenType": 16,
        "lenVar": 40
      },
      "kernels_config": {
        "python": {
          "delete_cmd_postfix": "",
          "delete_cmd_prefix": "del ",
          "library": "var_list.py",
          "varRefreshCmd": "print(var_dic_list())"
        },
        "r": {
          "delete_cmd_postfix": ") ",
          "delete_cmd_prefix": "rm(",
          "library": "var_list.r",
          "varRefreshCmd": "cat(var_dic_list()) "
        }
      },
      "types_to_exclude": [
        "module",
        "function",
        "builtin_function_or_method",
        "instance",
        "_Feature"
      ],
      "window_display": false
    }
  },
  "nbformat": 4,
  "nbformat_minor": 5
}