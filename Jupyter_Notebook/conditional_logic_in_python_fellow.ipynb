{
  "cells": [
    {
      "cell_type": "markdown",
      "metadata": {},
      "source": [
        "# Una tarea de clasificación de animales\n",
        "\n",
        "**Objetivo de aprendizaje:** En este caso aprenderás los elementos básicos de la lógica condicional (es decir, sentencias de la forma \"si algo, entonces algo\") y cómo implementarla en Python.\n",
        "\n",
        "Una de tus amigas, que estudia biología en la universidad, está escribiendo un ensayo y necesita clasificar un gran número de animales en tres categorías en función de algunas características. Ella ha estado intentando realizar la clasificación utilizando Excel, pero anoche borró accidentalmente la mitad de sus fórmulas y ahora su archivo quedó inutilizable. Para empeorar las cosas, no guardó ninguna copia de seguridad. Tú te has enterado y te has ofrecido a ayudarla.\n",
        "\n",
        "Este es el árbol de decisiones que está utilizando (un árbol de decisiones es sólo un [diagrama de flujo](https://es.wikipedia.org/wiki/Diagrama_de_flujo) que representa reglas de decisión):\n",
        "\n",
        "![Árbol de decisión - animales](data/images/arbol_desicion_animales.png)\n",
        "\n",
        "Desglosemos este diagrama:\n",
        "\n",
        "1.  **¿Este animal vuela?** Si este animal vuela, pasa a la siguiente fase. Si este animal no vuela, no lo asignes a ninguna categoría.\n",
        "2.  **¿Este animal es de sangre caliente?** Ahora sólo tenemos animales que vuelan. Si este animal es de sangre caliente, pasa a la siguiente fase. Si no lo es, clasifícalo como insecto.\n",
        "3.  **¿Este animal se alimenta de sangre?** Ahora sólo tenemos animales que vuelan *y* son de sangre caliente. Si este animal se alimenta de sangre, clasifícalo como murciélago. Si no lo hace, clasifícalo como pájaro (sabemos que hay murciélagos que no se alimentan de sangre, pero supongamos que no hay ninguno en la muestra de tu amiga).\n",
        "\n",
        "En otras palabras,\n",
        "\n",
        "-   Si un animal vuela, es de sangre caliente y se alimenta de sangre, es un murciélago.\n",
        "-   Si un animal vuela, es de sangre caliente y no se alimenta de sangre, es un ave.\n",
        "-   Si un animal vuela y no es de sangre caliente, es un insecto.\n",
        "-   Si un animal no vuela, no debe asignarse a ninguna categoría: sólo nos interesan los animales que vuelan.\n",
        "\n",
        "Ahora ejecuta la siguiente celda:\n"
      ]
    },
    {
      "cell_type": "code",
      "execution_count": null,
      "metadata": {},
      "outputs": [],
      "source": [
        "animal = {\n",
        "    \"vuela\":True,\n",
        "    \"sangre_caliente\":True,\n",
        "    \"alimento_sangre\":True\n",
        "}"
      ]
    },
    {
      "cell_type": "markdown",
      "metadata": {},
      "source": [
        "## Ejercicio 1\n",
        "\n",
        "¿A qué clase debería asignarse este animal?\n"
      ]
    },
    {
      "cell_type": "markdown",
      "metadata": {
        "tags": [
          "ans_st"
        ]
      },
      "source": [
        "**Respuesta.**"
      ]
    },
    {
      "cell_type": "markdown",
      "metadata": {},
      "source": [
        "-------"
      ]
    },
    {
      "cell_type": "markdown",
      "metadata": {},
      "source": [
        "Ahora vamos a escribir un código que haga la clasificación por nosotros. Para ello, utilizaremos una **sentencia `if`**. La palabra \"if\" significa \"si\" en inglés (por ejemplo: \"si este animal vuela\" se dice *if this animal flies*). La sintaxis es la siguiente:\n",
        "\n",
        "\n",
        "~~~python\n",
        "if alguna_expresión_es_verdadera:\n",
        "    haz_algo\n",
        "~~~\n",
        "\n",
        "\n",
        "Es *muy* importante que empieces la línea que viene después de los dos puntos (`:`) con una tabulación. Como has visto en casos anteriores, las tabulaciones le indican a Python cómo agrupar las sentencias jerárquicamente. En este caso, las líneas con tabulación después de `alguna_expresión_es_verdadera:` son las líneas que deben ejecutarse si se cumple la condición.\n",
        "\n",
        "Probablemente ya sepas que con esta sintaxis se accede al valor de una clave de un diccionario:\n",
        "\n",
        "\n",
        "~~~python\n",
        "mi_diccionario[\"mi_llave\"]\n",
        "~~~\n",
        "\n",
        "\n",
        "Por tanto, si queremos saber si `animal` vuela, tenemos que utilizar este código:\n",
        "\n",
        "\n",
        "~~~python\n",
        "animal[\"vuela\"]\n",
        "~~~"
      ]
    },
    {
      "cell_type": "markdown",
      "metadata": {},
      "source": [
        "## Ejercicio 2\n",
        "\n",
        "Ejecuta `animal[\"vuela\"]` en una celda de código y verifica que el valor devuelto es `True` (\"verdadero\").\n"
      ]
    },
    {
      "cell_type": "markdown",
      "metadata": {
        "tags": [
          "ans_st"
        ]
      },
      "source": [
        "**Respuesta.**"
      ]
    },
    {
      "cell_type": "markdown",
      "metadata": {},
      "source": [
        "-------"
      ]
    },
    {
      "cell_type": "markdown",
      "metadata": {},
      "source": [
        "Para codificar la primera etapa de nuestro árbol de decisión, tenemos que evaluar la expresión \"¿Este animal vuela?\" y luego pasar a la siguiente condición. Algo así:\n",
        "\n",
        "\n",
        "~~~python\n",
        "if animal[\"vuela\"] == True:\n",
        "    #pasar a la siguiente condición\n",
        "~~~\n",
        "\n",
        "\n",
        "Observa que aquí hemos utilizado `==` y no `=`. Esto se debe a que `=` se utiliza para *asignar* un valor a una variable, como en `cuatro = 1 + 3`, mientras que `==` se utiliza para *evaluar* si dos objetos tienen el mismo valor o no, como en `4 == 4` (que debería producir la salida `True`).\n",
        "\n",
        "Como todavía no hemos escrito el código de las siguientes etapas, vamos a imprimir simplemente una cadena de texto con la acción que debe seguirse si se cumple la condición. Ejecuta la celda de abajo. La salida impresa debería ser `Mover a la siguiente etapa, porque este animal vuela`:\n"
      ]
    },
    {
      "cell_type": "code",
      "execution_count": null,
      "metadata": {},
      "outputs": [],
      "source": [
        "if animal[\"vuela\"] == True:\n",
        "    print(\"Mover a la siguiente etapa, porque este animal vuela\")"
      ]
    },
    {
      "cell_type": "markdown",
      "metadata": {},
      "source": [
        "Para decirle a Python qué hacer cuando la expresión no es verdadera (es decir, en el caso de que el animal no vuele) utilizamos la palabra clave **`else`**. \"Else\" significa \"si no es así\" en inglés (por ejemplo, \"si no es así, no le asignes categoría\" se dice *else, don't assign a category*):"
      ]
    },
    {
      "cell_type": "code",
      "execution_count": null,
      "metadata": {},
      "outputs": [],
      "source": [
        "if animal[\"vuela\"] == True:\n",
        "    print(\"Mover a la siguiente etapa, porque este animal vuela\")\n",
        "else:\n",
        "    print(\"No asignar ninguna categoría\")"
      ]
    },
    {
      "cell_type": "markdown",
      "metadata": {},
      "source": [
        "Ahora que sabemos cómo codificar una declaración condicional, vamos a añadir las demás etapas del árbol de decisión. La segunda etapa es ésta:\n"
      ]
    },
    {
      "cell_type": "code",
      "execution_count": null,
      "metadata": {},
      "outputs": [],
      "source": [
        "if animal[\"sangre_caliente\"] == True:\n",
        "    print(\"Mover a la siguiente etapa, porque este animal es de sangre caliente\")\n",
        "else:\n",
        "    print(\"El animal es un insecto\")"
      ]
    },
    {
      "cell_type": "markdown",
      "metadata": {},
      "source": [
        "Si ahora juntamos ambas declaraciones condicionales, obtenemos:\n"
      ]
    },
    {
      "cell_type": "code",
      "execution_count": null,
      "metadata": {},
      "outputs": [],
      "source": [
        "# Primera condicioón\n",
        "if animal[\"vuela\"] == True:\n",
        "    # Segunda condición\n",
        "    if animal[\"sangre_caliente\"] == True:\n",
        "        print(\"Mover a la siguiente etapa, porque este animal es de sangre caliente\")\n",
        "    else:\n",
        "        print(\"El animal es un insecto\")\n",
        "else:\n",
        "    print(\"No asignar ninguna clase, porque este animal no vuela\")"
      ]
    },
    {
      "cell_type": "markdown",
      "metadata": {},
      "source": [
        "¿Te das cuenta de que hemos indentado la condicional `sangre_caliente`? Eso es porque esta condicional está *anidada* dentro de la primera."
      ]
    },
    {
      "cell_type": "markdown",
      "metadata": {},
      "source": [
        "### Ejercicio 3\n",
        "\n",
        "Escribe la tercera condición.\n"
      ]
    },
    {
      "cell_type": "markdown",
      "metadata": {
        "tags": [
          "ans_st"
        ]
      },
      "source": [
        "**Respuesta.**"
      ]
    },
    {
      "cell_type": "markdown",
      "metadata": {},
      "source": [
        "-------"
      ]
    },
    {
      "cell_type": "markdown",
      "metadata": {},
      "source": [
        "### Ejercicio 4\n",
        "\n",
        "Integra la tercera condicional en el código de modo que tengas un bloque de código que contenga las tres condicionales. (Como debe estar anidado dentro de la segunda condicional, debe tener doble tabulación)."
      ]
    },
    {
      "cell_type": "markdown",
      "metadata": {
        "tags": [
          "ans_st"
        ]
      },
      "source": [
        "**Respuesta.**"
      ]
    },
    {
      "cell_type": "markdown",
      "metadata": {},
      "source": [
        "-------"
      ]
    },
    {
      "cell_type": "markdown",
      "metadata": {},
      "source": [
        "¡Parece que hemos conseguido clasificar a nuestro animal como murciélago! Vamos a probar de nuevo este código, esta vez pasando un insecto. Para ello, sobrescribimos la variable `animal` con otro diccionario que tenga los valores correspondientes a un insecto:\n"
      ]
    },
    {
      "cell_type": "code",
      "execution_count": null,
      "metadata": {},
      "outputs": [],
      "source": [
        "animal = {\n",
        "    \"vuela\":True,\n",
        "    \"sangre_caliente\":False,\n",
        "    \"alimento_sangre\":True\n",
        "}"
      ]
    },
    {
      "cell_type": "markdown",
      "metadata": {},
      "source": [
        "### Ejercicio 5\n",
        "\n",
        "Vuelve a ejecutar el código. ¿Se ha clasificado correctamente el animal?\n"
      ]
    },
    {
      "cell_type": "markdown",
      "metadata": {
        "tags": [
          "ans_st"
        ]
      },
      "source": [
        "**Respuesta.**"
      ]
    },
    {
      "cell_type": "markdown",
      "metadata": {},
      "source": [
        "-------"
      ]
    },
    {
      "cell_type": "markdown",
      "metadata": {},
      "source": [
        "Si todo ha funcionado correctamente, el animal habrá sido clasificado como insecto. Observa que, en el caso de los insectos, el valor de `alimento_sangre` no es relevante en nuestro árbol de decisión: lo que hace que un animal volador sea un insecto no es que se alimente o no de sangre, sino que no sea de sangre caliente.\n"
      ]
    },
    {
      "cell_type": "markdown",
      "metadata": {},
      "source": [
        "## Usando `if...elif`\n",
        "-----------------------\n",
        "\n",
        "Tu amiga está tan impresionada por tu destreza con Python que te pide que le ayudes con otro conjunto de datos. Se trata de este árbol de decisión:\n",
        "\n",
        "![](data/images/animales_elif.png)\n",
        "\n",
        "Vamos a crear un animal ficticio:\n"
      ]
    },
    {
      "cell_type": "code",
      "execution_count": null,
      "metadata": {},
      "outputs": [],
      "source": [
        "animal = {\n",
        "    \"altura\":1.5\n",
        "}"
      ]
    },
    {
      "cell_type": "markdown",
      "metadata": {},
      "source": [
        "Como la altura de este animal es de 1,5 m, debe clasificarse como animal `GRANDE` según el árbol de decisión:\n",
        "\n",
        "1.  La altura de este animal *no* es inferior a .30 mt, por lo que debe pasar a la siguiente etapa antes de que se le asigne una clase.\n",
        "2.  La altura de este animal *no* es inferior a .60 mt, lo que significa que la condición se evalúa como `Falso` (es decir, como \"NO\"). Por tanto, este animal es `GRANDE`.\n",
        "\n",
        "Podrías codificar fácilmente la primera condición así"
      ]
    },
    {
      "cell_type": "code",
      "execution_count": null,
      "metadata": {},
      "outputs": [],
      "source": [
        "# Primera condición\n",
        "if animal[\"altura\"] < .30: # Es menor que .30 mt?\n",
        "    print(\"PEQUEÑO\")\n",
        "else:\n",
        "    print(\"Mover a la siguente etapa, este animal NO ES PEQUEÑO\")"
      ]
    },
    {
      "cell_type": "markdown",
      "metadata": {},
      "source": [
        "### Ejercicio 6\n",
        "\n",
        "Añade la segunda condición.\n"
      ]
    },
    {
      "cell_type": "markdown",
      "metadata": {
        "tags": [
          "ans_st"
        ]
      },
      "source": [
        "**Respuesta.**"
      ]
    },
    {
      "cell_type": "markdown",
      "metadata": {},
      "source": [
        "-------"
      ]
    },
    {
      "cell_type": "markdown",
      "metadata": {},
      "source": [
        "¡Funciona! Sin embargo, si quieres que el código sea un poco más legible, puedes sustituir el `else...if` por un práctico atajo, **`elif`**. Como su nombre indica, los `elif` pueden utilizarse cuando tienes un `if` inmediatamente después de un `else`. Así, la versión simplificada sería\n"
      ]
    },
    {
      "cell_type": "code",
      "execution_count": null,
      "metadata": {},
      "outputs": [],
      "source": [
        "if animal[\"altura\"] < .30: # Primera condición\n",
        "    print(\"PEQUEÑO\")\n",
        "elif animal[\"altura\"] < .60: # Segunda condición\n",
        "    print(\"MEDIANO\")\n",
        "else:\n",
        "    print(\"GRANDE\")"
      ]
    },
    {
      "cell_type": "markdown",
      "metadata": {},
      "source": [
        "Este bloque tiene dos líneas de código menos. Puedes seguir la lógica con este razonamiento\n",
        "\n",
        "1.  Si la altura del animal es inferior a .30 mt, entonces es `PEQUEÑO`.\n",
        "2.  Si el animal no es `PEQUEÑO`, comprueba si mide menos de .60 mt. Si lo es, etiquétalo como `MEDIANO`.\n",
        "3.  Si la altura del animal es otra (es decir, no es ni `PEQUEÑO` ni `MEDIO`), entonces tiene que ser `GRANDE`.\n"
      ]
    },
    {
      "cell_type": "markdown",
      "metadata": {},
      "source": [
        "Ahora lo único que tienes que hacer es tomar tus condicionales y ejecutarlos en cada animal de los conjuntos de datos de tu amigo. Podrías hacer esto de animal en animal, pero eso sería un poco complicado: podría ser tan engorroso como usar una hoja de cálculo, o incluso peor. Para casos como éste, es mejor utilizar **funciones** y/o **bucles** de Python, que son formas extremadamente eficientes de agilizar las tareas repetitivas. Aprenderás sobre ellos en casos futuros."
      ]
    },
    {
      "cell_type": "markdown",
      "metadata": {},
      "source": [
        "## Hablemos un poco sobre la lógica booleana\n",
        "\n",
        "Hasta ahora nuestras condicionales han evaluado una sola condición para determinar qué líneas de código se procesan realmente cuando las ejecutamos. Python también puede evaluar varias condiciones a la vez, utilizando lo que llamamos **[lógica booleana](https://www.pbs.org/video/boolean-logic-logic-gates-crash-course-computer-science-nobmpt/)**.\n",
        "\n",
        "Hay cuatro operaciones booleanas que serán suficientes en la gran mayoría de los casos:\n",
        "\n",
        "-   $Y$, que en Python es `and`,\n",
        "-   $O$, que en Python es `or`,\n",
        "-   **$O$ exclusiva**, que en Python es `^`, y\n",
        "-   $NO$ que en Python es `not`.\n",
        "\n",
        "Esto está relacionado con las operaciones de conjuntos que tratamos en un caso anterior. De hecho, puedes representar la lógica booleana [usando conjuntos](https://en.wikipedia.org/wiki/Boolean_algebra#Diagrammatic_representations).\n",
        "\n",
        "### $Y$\n",
        "\n",
        "Tienes dos variables booleanas `A` y `B`. Ésta es la **tabla de verdad** relacionada con la operación $Y$ cuando se les aplica (una tabla de verdad es sólo una matriz que muestra la salida de una operación booleana para diferentes valores de `A` y `B`):\n",
        "  \n",
        "  |Valor de A   |Valor de B   |Valor de (A y B)|\n",
        "  |------------ |----------- |------------------|\n",
        "  |Falso        |Falso        |Falso|\n",
        "  |Falso        |Verdadero    |Falso|\n",
        "  |Verdadero    |Falso        |Falso|\n",
        "  |Verdadero    |Verdadero    |Verdadero|\n",
        "\n",
        "\n",
        "En otras palabras, `A y B` es `Verdadero` sólo cuando ambas condiciones son `Verdaderas`.\n",
        "\n",
        "### $O$\n",
        "\n",
        "Ésta es la tabla de verdad de la operación $OR$:\n",
        "\n",
        "  |Valor de A   |Valor de B   |Valor de (A o B)|\n",
        "  |------------ |----------- |------------------|\n",
        "  |Falso        |Falso        |Falso|\n",
        "  |Falso        |Verdadero    |Verdadero|\n",
        "  |Verdadero    |Falso        |Verdadero|\n",
        "  |Verdadero    |Verdadero    |Verdadero|\n",
        "\n",
        "En otras palabras, `A o B` es siempre `Verdadero`, excepto cuando ambas condiciones son `Falsas`.\n",
        "\n",
        "### $O$ exclusivo\n",
        "\n",
        "Ésta es la tabla de verdad de la operación exclusiva o:\n",
        "\n",
        "  |Valor de A   |Valor de B   |Valor de (A \\^ B)|\n",
        "  |------------ |------------ |-------------------|\n",
        "  |Falso        |Falso        |Falso|\n",
        "  |Falso        |Verdadero    |Verdadero|\n",
        "  |Verdadero    |Falso        |Verdadero|\n",
        "  |Verdadero    |Verdadero    |Falso|\n",
        "\n",
        "En otras palabras, `A ^ B` es `Verdadero` sólo cuando ambas condiciones tienen valores de verdad diferentes.\n",
        "\n",
        "### $NO$\n",
        "\n",
        "La negación es el más sencillo de los operadores. Simplemente invierte el valor de tu booleano. Así, si `A` es `Verdadero`, entonces `not A` será `Falso`. Sólo necesita un argumento, así que no puedes hacer `A not B` (pero *sí puedes* hacer `not(A and B)`, por ejemplo).\n",
        "\n",
        "---\n",
        "\n",
        "Veamos ahora un ejemplo. Evaluemos una operación $OR$:\n"
      ]
    },
    {
      "cell_type": "code",
      "execution_count": null,
      "metadata": {},
      "outputs": [],
      "source": [
        "if (4 < 5) or (400 < 3): \n",
        "    print(\"La condicional se evalúa como verdadera\")\n",
        "else:\n",
        "    print(\"La condicional se evalúa como falsa\")"
      ]
    },
    {
      "cell_type": "markdown",
      "metadata": {},
      "source": [
        "Fíjate en que hemos utilizado paréntesis para indicarle a Python dónde estaban las condiciones en el código.\n",
        "\n",
        "**Pregunta:** ¿Por qué este código se evalúa como verdadero?\n",
        "\n",
        "Y aquí tienes un ejemplo de una operación $Y$:\n"
      ]
    },
    {
      "cell_type": "code",
      "execution_count": null,
      "metadata": {},
      "outputs": [],
      "source": [
        "if (4 < 5) and (400 < 3): \n",
        "    print(\"La condicional se evalúa como verdadera\")\n",
        "else:\n",
        "    print(\"La condicional se evalúa como falsa\")"
      ]
    },
    {
      "cell_type": "markdown",
      "metadata": {},
      "source": [
        "**Pregunta:** ¿Por qué se evaluó como falso?\n"
      ]
    }
  ],
  "metadata": {
    "language_info": {
      "name": "python"
    }
  },
  "nbformat": 4,
  "nbformat_minor": 2
}