{
  "cells": [
    {
      "cell_type": "markdown",
      "metadata": {},
      "source": [
        "# Adicionando etiquetas nutricionales a los alimentos\n",
        "\n",
        "**Objetivo de aprendizaje:** En este caso, aprenderás qué son las funciones de Python, cómo crearlas y ejecutarlas.\n",
        "\n",
        "Tú y tus compañeros están llevando a cabo un proyecto de investigación para determinar la precisión de las afirmaciones de los fabricantes de alimentos sobre el contenido nutricional de sus productos. Ya has reunido los datos de unos 500 productos de tu supermercado local y ahora quieres etiquetar cada uno de ellos según su densidad calórica, su contenido en azúcares y grasas.\n",
        "\n",
        "Para ello, quieres utilizar los criterios de etiquetado que la FDA (*Food and Drug Administration*, la entidad estadounidense encargada de controlar la  calidad de los alimentos) ha definido para el país:\n",
        "\n",
        "  |Categoría   |Etiqueta           |Criterio\n",
        "  |----------- |------------------ |-----------------------------------------------|\n",
        "  |Calorías    |Sin calorías       |Menos de 5 calorías por porción|\n",
        " | Calorías    |Bajo en calorías   |Menos de 40 calorías por porción|\n",
        "  |Grasa       |Sin grasa          |Menos de 0,5 gramos de grasa total por porción|\n",
        "  |Grasa       |Bajo en grasa      |3 gramos o menos de grasa total por porción|\n",
        "  |Azúcar      |Sin azúcar         |Menos de 0,5 gramos de azúcar por porción|\n",
        "\n",
        "Fuente: [Asociación Americana de la Diabetes](https://www.diabetes.org/healthy-living/recipes-nutrition/reading-food-labels) e [Instituto de Medicina](https://www.ncbi.nlm.nih.gov/books/NBK209851/).\n"
      ]
    },
    {
      "cell_type": "markdown",
      "metadata": {},
      "source": [
        "Añadiendo etiquetas de calorías\n",
        "----------------------------\n",
        "\n",
        "Empecemos con calma. Cuando se escriben piezas largas de código, siempre es una buena idea dividir la tarea en unidades más pequeñas para hacer las cosas más manejables. Este es el árbol de decisiones para las etiquetas de calorías:\n",
        "\n",
        "![Árbol de calorías](data/images/arbol_calorias.png)\n",
        "\n",
        "Vamos a escribir código que implemente este árbol de decisión e imprima la etiqueta resultante. Utilizaremos este alimento de ejemplo para probar nuestro código (datos nutricionales tomados del [Departamento de Agricultura de EEUU](https://fdc.nal.usda.gov/fdc-app.html#/food-details/362759/nutrients)):\n",
        "\n",
        "\n",
        "~~~python\n",
        "banano = {\n",
        "    \"tamano_porcion\":28, # En gramos\n",
        "    \"calorias\":94.1, # En KiloCalorías\n",
        "    \"grasa\":300, # En miligramos\n",
        "    \"sodio\":1.96, # En miligramos\n",
        "    \"azucar\":16, # En gramos\n",
        "    \"fibra\":0.504 # En gramos\n",
        "}\n",
        "~~~\n",
        "\n"
      ]
    },
    {
      "cell_type": "code",
      "execution_count": null,
      "metadata": {},
      "outputs": [],
      "source": [
        "banano = {\n",
        "    \"tamano_porcion\":28,\n",
        "    \"calorias\":94.1,\n",
        "    \"grasa\":300,\n",
        "    \"sodio\":1.96,\n",
        "    \"azucar\":16,\n",
        "    \"fibra\":0.504\n",
        "}\n",
        "\n",
        "if banano[\"calorias\"] < 5:\n",
        "    etiqueta_calorias = \"SIN CALORÍAS\"\n",
        "elif banano[\"calorias\"] < 40:\n",
        "    etiqueta_calorias = \"BAJO EN CALORÍAS\"\n",
        "else:\n",
        "    etiqueta_calorias = None\n",
        "\n",
        "print(etiqueta_calorias)"
      ]
    },
    {
      "cell_type": "markdown",
      "metadata": {},
      "source": [
        "El banano no tiene etiqueta porque tiene demasiadas calorías y, por tanto, no puede calificarse como `SIN CALORÍAS` o `BAJO EN CALORÍAS`. Su etiqueta es un objeto Python `None` (`None`, que significa \"nada\" en inglés, es una palabra reservada de Phyton para variables o elementos sin valores o con valor desconocido)."
      ]
    },
    {
      "cell_type": "markdown",
      "metadata": {},
      "source": [
        "### Ejercicio 1\n",
        "\n",
        "Haz lo mismo con este [alimento](https://fdc.nal.usda.gov/fdc-app.html#/food-details/1103276/nutrients):\n",
        "\n",
        "\n",
        "~~~python\n",
        "tomate = {\n",
        "    \"tamano_porcion\":125,\n",
        "    \"calorias\":22.5,\n",
        "    \"grasa\":250,\n",
        "    \"sodio\":6.25,\n",
        "    \"azucar\":3.29,\n",
        "    \"fibra\":1.5\n",
        "}\n",
        "~~~\n",
        "\n"
      ]
    },
    {
      "cell_type": "markdown",
      "metadata": {
        "tags": [
          "ans_st"
        ]
      },
      "source": [
        "**Respuesta.**"
      ]
    },
    {
      "cell_type": "markdown",
      "metadata": {},
      "source": [
        "-------"
      ]
    },
    {
      "cell_type": "markdown",
      "metadata": {},
      "source": [
        "Dado que un tomate entero (\\~125 g) tiene más de 5 calorías y menos de 40, debe ser etiquetado como `BAJO EN CALORÍAS`.\n",
        "\n",
        "¿Te has dado cuenta de que has tenido que reescribir partes del código para adaptarlo al nuevo alimento? Si lo hicieras con una sandía, tendrías que volver a modificar esas partes del código. ¡Imagina tener que hacer eso para todo el supermercado!\n",
        "\n",
        "Aquí es donde **las funciones** pueden ser útiles. Cuando tienes un trozo de código que te encuentras utilizando una y otra vez, con sólo pequeños ajustes cada vez, puede ser mejor que escribas una función. Las funciones son estupendas si quieres generalizar tu código para que pueda utilizarse en diversas situaciones. Por ejemplo, podemos convertir este código\n",
        "\n",
        "\n",
        "~~~python\n",
        "if banano[\"calorias\"] < 5:\n",
        "    etiqueta_calorias = \"SIN CALORÍAS\"\n",
        "elif banano[\"calorias\"] < 40:\n",
        "    etiqueta_calorias = \"BAJO EN CALORÍAS\"\n",
        "else:\n",
        "    etiqueta_calorias = None\n",
        "\n",
        "print(etiqueta_calorias)\n",
        "~~~\n",
        "\n",
        "\n",
        "en una función, para que no tengas que cambiar `banano` por el nombre de la comida cada vez que lo ejecutes. En su lugar, puedes tener un marcador de posición, como este:\n"
      ]
    },
    {
      "cell_type": "code",
      "execution_count": null,
      "metadata": {},
      "outputs": [],
      "source": [
        "def asignar_etiquetas_calorias(alimento):\n",
        "    if alimento[\"calorias\"] < 5: # Cambiamos \"banano\" a \"alimento\"\n",
        "        etiqueta_calorias = \"SIN CALORÍAS\"\n",
        "    elif alimento[\"calorias\"] < 40: # Cambiamos \"banano\" a \"alimento\"\n",
        "        etiqueta_calorias = \"BAJO EN CALORÍAS\"\n",
        "    else:\n",
        "        etiqueta_calorias = None\n",
        "    print(etiqueta_calorias)"
      ]
    },
    {
      "cell_type": "markdown",
      "metadata": {},
      "source": [
        "Observarás que gran parte del código es el mismo que antes, pero cambiamos \"banano\" y pusimos \"alimento\", y hay una nueva línea `def asignar_etiqueta_calorias(alimento):` que precede a todo lo demás. Esta línea se conoce como la **sentencia de declaración de la función**. Siempre comienza con la palabra clave restringida **`def`**, seguida del nombre que queremos darle a la función (en este caso, `asignar_etiqueta_calorias`), luego una colección de **argumentos** encerrados entre paréntesis, y finalmente termina con dos puntos. En este caso, `alimento` es el único argumento, aunque más adelante verás funciones con múltiples argumentos, así como algunas sin argumentos.\n",
        "\n",
        "Puedes pensar en los argumentos como si fueran parte de una conversación. Por ejemplo, el nombre de la función `asignar_etiqueta_calorias` es el tema general de la conversación, y el argumento `alimento` es el tema más específico de la conversación. Así que si estuviéramos hablando de asignar una etiqueta de calorías y dijeras \"bueno, ¿cuál es la etiqueta de un banano?\", entonces \"banano\" se convierte en el argumento que has **pasado** a nuestra conversación (se *pasan* argumentos a las funciones).\n",
        "\n",
        "Si ejecutas la celda anterior, no verás que se imprima nada. ¿A qué se debe esto? Bueno, una función está pensada para generalizar nuestro código, pero si no le damos información sobre la situación concreta para la que queremos utilizarla, ¡no sabrá qué hacer! Ese es el propósito de los argumentos (en este caso, `alimento`): son marcadores de posición que podemos sustituir por información específica de nuestra situación actual para que la función pueda darnos una salida relevante. En este caso, la información específica (el tipo de alimento) es que se trata de un tomate, así que sustituyamos \"alimento\" por \"tomate\" y ejecutemos:"
      ]
    },
    {
      "cell_type": "code",
      "execution_count": null,
      "metadata": {},
      "outputs": [],
      "source": [
        "asignar_etiquetas_calorias(tomate)"
      ]
    },
    {
      "cell_type": "markdown",
      "metadata": {},
      "source": [
        "### Ejercicio 2\n",
        "\n",
        "Prueba la función `asignar_etiquetas_calorias()` utilizando en su lugar el `banano`.\n"
      ]
    },
    {
      "cell_type": "markdown",
      "metadata": {
        "tags": [
          "ans_st"
        ]
      },
      "source": [
        "**Respuesta.**"
      ]
    },
    {
      "cell_type": "markdown",
      "metadata": {},
      "source": [
        "-------"
      ]
    },
    {
      "cell_type": "markdown",
      "metadata": {},
      "source": [
        "Como ves, cuando llamas a una función, no tienes que modificar el código de la función en sí, sino sólo los argumentos que le pasas (la forma estándar de decir que has ejecutado una función es que la has **llamado**).\n",
        "\n",
        "Es importante tener en cuenta que el código dentro de la función *debe estar indentado* para que funcione correctamente.\n",
        "\n",
        "También es una buena idea añadir un **[`docstring`](https://www.programiz.com/python-programming/docstrings)** a tu función. Las docstrings (Cadenas de Documentación), son útiles porque, si vuelves a mirar tu código en el futuro, podrás ver fácilmente en inglés lo que cada función debía hacer. Las cadenas de documentación se colocan dentro de comillas triples (`\"\"\"`). Por ejemplo, `asignar_calorias_etiquetas` con una cadena de documentación se vería así:"
      ]
    },
    {
      "cell_type": "code",
      "execution_count": null,
      "metadata": {},
      "outputs": [],
      "source": [
        "def asignar_etiqueta_calorias(alimento):\n",
        "    \"\"\"\n",
        "    Asigna una etiqueta de calorías de acuerdo a las reglas de la FDA.\n",
        "    \n",
        "    Argumentos:\n",
        "    alimento: Un dicccionario Python que tiene al menos una llave \"calorías\".\n",
        "    \n",
        "    Salida:\n",
        "    Sin salidas. Esta funcion simplemente imprime la etiqueta.\n",
        "    \"\"\"\n",
        "    if alimento[\"calorias\"] < 5:\n",
        "        etiqueta_calorias = \"SIN CALORÍAS\"\n",
        "    elif alimento[\"calorias\"] < 40:\n",
        "        etiqueta_calorias = \"BAJO EN CALORÍAS\"\n",
        "    else:\n",
        "        etiqueta_calorias = None\n",
        "    print(etiqueta_calorias)"
      ]
    },
    {
      "cell_type": "markdown",
      "metadata": {},
      "source": [
        "### Ejercicio 3\n",
        "\n",
        "Ejecuta `help(asignar_etiqueta_calorias)`. ¿Qué ves?\n"
      ]
    },
    {
      "cell_type": "markdown",
      "metadata": {
        "tags": [
          "ans_st"
        ]
      },
      "source": [
        "**Respuesta.**"
      ]
    },
    {
      "cell_type": "markdown",
      "metadata": {},
      "source": [
        "-------"
      ]
    },
    {
      "cell_type": "markdown",
      "metadata": {},
      "source": [
        "Hasta ahora, nuestra función imprime algo en la pantalla, pero no tiene ninguna **salida**, es decir, no produce nada de valor para el computador. (El computador no considera que algo que se muestra en la pantalla sea una salida, aunque esa definición nos parezca natural, ya que somos criaturas visuales: ¡es una distinción muy importante que hay que recordar!)\n",
        "\n",
        "Para que nuestra función devuelva una salida, podemos utilizar la palabra clave `return`. Esta nueva versión de nuestra función no imprime inmediatamente la etiqueta, sino que la devuelve como un objeto de cadena de texto (o `None` si no hay etiqueta):\n"
      ]
    },
    {
      "cell_type": "code",
      "execution_count": null,
      "metadata": {},
      "outputs": [],
      "source": [
        "def asignar_etiqueta_calorias(alimento):\n",
        "    \"\"\"\n",
        "    Asigna una etiqueta de calorías de acuerdo a las reglas de la FDA.\n",
        "    \n",
        "    Argumentos:\n",
        "    alimento: Un dicccionario Python que tiene al menos una llave \"calorías\".\n",
        "    \n",
        "    Salida:\n",
        "    etiqueta_calorías: Una cadena de texto, entre \"SIN CALORÍAS\", \"BAJO EN CALORÍAS\" o None\n",
        "    \"\"\"\n",
        "    if alimento[\"calorias\"] < 5:\n",
        "        etiqueta_calorias = \"SIN CALORÍAS\"\n",
        "    elif alimento[\"calorias\"] < 40:\n",
        "        etiqueta_calorias = \"BAJO EN CALORÍAS\"\n",
        "    else:\n",
        "        etiqueta_calorias = None\n",
        "    return etiqueta_calorias"
      ]
    },
    {
      "cell_type": "markdown",
      "metadata": {},
      "source": [
        "Así que ahora podemos guardar los valores de la etiqueta en variables para imprimirlos más tarde:\n"
      ]
    },
    {
      "cell_type": "code",
      "execution_count": null,
      "metadata": {},
      "outputs": [],
      "source": [
        "etiqueta_caloria_tomate = asignar_etiqueta_calorias(tomate)\n",
        "etiqueta_caloria_banano = asignar_etiqueta_calorias(banano)"
      ]
    },
    {
      "cell_type": "code",
      "execution_count": null,
      "metadata": {},
      "outputs": [],
      "source": [
        "print(\"La Etiqueta para tomate es\", etiqueta_caloria_tomate)\n",
        "print(\"y la Etiqueta para banano es\", etiqueta_caloria_banano)"
      ]
    },
    {
      "cell_type": "markdown",
      "metadata": {},
      "source": [
        "Este diagrama resume las diferentes partes de la definición de una función definida por el usuario en Python:\n",
        "\n",
        "![Def](data/images/anatomia_def.png)\n"
      ]
    },
    {
      "cell_type": "markdown",
      "metadata": {},
      "source": [
        "## Añadiendo etiquetas del contenido de grasa\n",
        "\n",
        "Ahora  que ya tenemos nuestra función para añadir etiquetas de calorías. Hagamos lo mismo con el contenido de grasa. Este es el árbol de decisión:\n",
        "\n",
        "![Árbol de decisión sobre la grasa](data/images/arbol_grasa.png)\n"
      ]
    },
    {
      "cell_type": "markdown",
      "metadata": {},
      "source": [
        "### Ejercicio 4\n",
        "\n",
        "Crea la función `asignar_etiqueta_grasa()` para implementar este árbol de decisión.\n"
      ]
    },
    {
      "cell_type": "markdown",
      "metadata": {
        "tags": [
          "ans_st"
        ]
      },
      "source": [
        "**Respuesta.**"
      ]
    },
    {
      "cell_type": "markdown",
      "metadata": {},
      "source": [
        "-------"
      ]
    },
    {
      "cell_type": "markdown",
      "metadata": {},
      "source": [
        "Vamos a probarlo con `el tomate`:\n"
      ]
    },
    {
      "cell_type": "code",
      "execution_count": null,
      "metadata": {},
      "outputs": [],
      "source": [
        "print(asignar_etiqueta_grasa(tomate))"
      ]
    },
    {
      "cell_type": "markdown",
      "metadata": {},
      "source": [
        "Bueno, ¡esto es sorprendente! Se supone que los tomates son `LIBRES DE GRASA`, ¿no? Entonces, ¿qué ha pasado aquí?\n",
        "\n",
        "Inspeccionemos nuestros datos:\n"
      ]
    },
    {
      "cell_type": "code",
      "execution_count": null,
      "metadata": {},
      "outputs": [],
      "source": [
        "tomate"
      ]
    },
    {
      "cell_type": "markdown",
      "metadata": {},
      "source": [
        "¡Sabemos que un tomate entero pesa unos 125 gramos, pero aquí vemos que tiene 250 unidades de grasa! Desde luego, ¡no pueden ser gramos!\n",
        "\n",
        "Resulta que nuestro conjunto de datos tiene el contenido de grasa *en miligramos*, no en gramos. Por tanto, 250mg equivalen a 0,25 gramos. ¡Esto tiene más lógica!\n",
        "\n",
        "Para que nuestros condicionales funcionen correctamente, tenemos que convertir el contenido de grasa en gramos. Como 1 gramo equivale a 1.000 miligramos, tenemos que dividir el número entre 1.000.\n"
      ]
    },
    {
      "cell_type": "markdown",
      "metadata": {},
      "source": [
        "### Ejercicio 5\n",
        "\n",
        "Modifica la función `asignar_etiqueta_grasa()` para utilizar gramos en lugar de miligramos en los condicionales.\n"
      ]
    },
    {
      "cell_type": "markdown",
      "metadata": {
        "tags": [
          "ans_st"
        ]
      },
      "source": [
        "**Respuesta.**"
      ]
    },
    {
      "cell_type": "markdown",
      "metadata": {},
      "source": [
        "-------"
      ]
    },
    {
      "cell_type": "markdown",
      "metadata": {},
      "source": [
        "Vamos a probar nuestra función modificada:\n"
      ]
    },
    {
      "cell_type": "code",
      "execution_count": null,
      "metadata": {},
      "outputs": [],
      "source": [
        "print(asignar_etiqueta_grasa(tomate))"
      ]
    },
    {
      "cell_type": "markdown",
      "metadata": {},
      "source": [
        "¡Este es el resultado esperado! Ya hemos terminado.\n"
      ]
    },
    {
      "cell_type": "markdown",
      "metadata": {},
      "source": [
        "## Añadiendo las etiquetas del contenido de azúcar\n",
        "\n",
        "Para el azúcar, nuestra tarea es más sencilla: Si hay menos de 0,5 gramos de azúcar por ración, es `SIN AZÚCAR`. Si hay más de 0,5 gramos, el alimento no recibe ninguna etiqueta. En código, esto es:\n"
      ]
    },
    {
      "cell_type": "code",
      "execution_count": null,
      "metadata": {},
      "outputs": [],
      "source": [
        "def asignar_etiqueta_azucar(alimento):\n",
        "    \"\"\"\n",
        "    Asignar una etiqueta Azúcar de acuerdo a las reglas de la FDA.\n",
        "    \n",
        "    Argumentos:\n",
        "    alimento: Un diccionario Python que tiene al menos una llave \"azúcar\".\n",
        "    \n",
        "    Salidas:\n",
        "    etiqueta_azúcar: Una Cadena de texto, entre \"LIBRE DE AZÚCAR\" o None\n",
        "    \"\"\"\n",
        "    if alimento[\"azucar\"] < 0.5:\n",
        "        etiqueta_azucar = \"LIBRE DE AZÚCAR\"\n",
        "    else:\n",
        "        etiqueta_azucar = None\n",
        "    return etiqueta_azucar"
      ]
    },
    {
      "cell_type": "markdown",
      "metadata": {},
      "source": [
        "Probemos un banano, que definitivamente *no* es sin azúcar (su etiqueta debería ser `None`):\n"
      ]
    },
    {
      "cell_type": "code",
      "execution_count": null,
      "metadata": {},
      "outputs": [],
      "source": [
        "print(asignar_etiqueta_azucar(banano))"
      ]
    },
    {
      "cell_type": "markdown",
      "metadata": {},
      "source": [
        "## Juntándolo todo\n",
        "\n",
        "### Ejercicio 6\n",
        "\n",
        "Piensa en una estrategia para convertir estas tres funciones en una sola, evitando repetir código innecesariamente. No escribas todavía ningún código, sólo escribe la estrategia que seguirías."
      ]
    },
    {
      "cell_type": "markdown",
      "metadata": {
        "tags": [
          "ans_st"
        ]
      },
      "source": [
        "**Respuesta.**"
      ]
    },
    {
      "cell_type": "markdown",
      "metadata": {},
      "source": [
        "-------"
      ]
    },
    {
      "cell_type": "markdown",
      "metadata": {},
      "source": [
        "## Funciones anónimas\n",
        "\n",
        "Por lo general, no queremos crear funciones que no vayamos a utilizar a menudo, así que podemos utilizar **funciones anónimas** en su lugar. Son como funciones \"`def`\" normales, sólo que no tienes que darles un nombre (por eso son anónimas). Para decirle a Python que un trozo de código va a ser una función anónima, sustituimos `def` por la palabra clave **`lambda`** y utilizamos la siguiente sintaxis:\n",
        "\n",
        "\n",
        "~~~python\n",
        "lambda mi_entrada: <hacer_algo_con_mi_entrada> # Puedes tener mas de 1 entrada, solo sepáralas con comas\n",
        "~~~\n",
        "\n",
        "\n",
        "Y luego, para evaluar nuestra función, utilizamos\n",
        "\n",
        "\n",
        "~~~python\n",
        "(lambda mi_entrada: <hacer_algo_con_mi_entrada>)(la_entrada)\n",
        "~~~\n",
        "\n",
        "\n",
        "Así, nuestra versión anónima de `asignar_etiquetas_fda(alimento)` podría ser\n",
        "\n",
        "\n",
        "~~~python\n",
        "lambda alimento: [asignar_etiqueta_calorias(alimento), asignar_etiqueta_grasa(alimento), asignar_etiqueta_azucar(alimento)]\n",
        "~~~\n",
        "\n",
        "\n",
        "y para ejecutarla realmente haríamos lo siguiente\n"
      ]
    },
    {
      "cell_type": "code",
      "execution_count": null,
      "metadata": {},
      "outputs": [],
      "source": [
        "(lambda alimento: [asignar_etiqueta_calorias(alimento), asignar_etiqueta_grasa(alimento), asignar_etiqueta_azucar(alimento)])(banano)"
      ]
    },
    {
      "cell_type": "markdown",
      "metadata": {},
      "source": [
        "En general, te conviene utilizar funciones `lambda` cuando tengas un código extremadamente legible que pretendas utilizar una sola vez. No debes utilizar `lambda` si piensas copiar y pegar tu código una y otra vez en diferentes partes de tu script, especialmente si ese código no es inmediatamente legible."
      ]
    }
  ],
  "metadata": {
    "language_info": {
      "name": "python"
    }
  },
  "nbformat": 4,
  "nbformat_minor": 2
}