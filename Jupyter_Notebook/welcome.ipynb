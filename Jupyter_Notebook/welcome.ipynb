{
  "metadata": {
    "kernelspec": {
      "name": "python",
      "display_name": "Python (Pyodide)",
      "language": "python"
    },
    "language_info": {
      "codemirror_mode": {
        "name": "python",
        "version": 3
      },
      "file_extension": ".py",
      "mimetype": "text/x-python",
      "name": "python",
      "nbconvert_exporter": "python",
      "pygments_lexer": "ipython3",
      "version": "3.8"
    },
    "varInspector": {
      "cols": {
        "lenName": 16,
        "lenType": 16,
        "lenVar": 40
      },
      "kernels_config": {
        "python": {
          "delete_cmd_postfix": "",
          "delete_cmd_prefix": "del ",
          "library": "var_list.py",
          "varRefreshCmd": "print(var_dic_list())"
        },
        "r": {
          "delete_cmd_postfix": ") ",
          "delete_cmd_prefix": "rm(",
          "library": "var_list.r",
          "varRefreshCmd": "cat(var_dic_list()) "
        }
      },
      "types_to_exclude": [
        "module",
        "function",
        "builtin_function_or_method",
        "instance",
        "_Feature"
      ],
      "window_display": false
    }
  },
  "nbformat_minor": 4,
  "nbformat": 4,
  "cells": [
    {
      "cell_type": "markdown",
      "source": "#  ¡Te damos la bienvenida al programa DS4A / Colombia - Fundamentos en Analítica de Datos!\n\nNos emociona iniciar contigo este proceso de formación en habilidades de datos.\nTe invitamos revisar estos documentos haciendo click sobre los vínculos como punto de partida del programa:\n\n- [Paquete de bienvenida](https://ds4acolombia7.s3.us-east-2.amazonaws.com/Welcome_Packet-Fundamentos_Analitica_de_Datos-DS4A-Colombia.pdf)\n- [Guía de comunicaciones](https://ds4acolombia7.s3.us-east-2.amazonaws.com/DS4A+Guia+de+comunicaciones.pdf)\n- [Código de conducta](https://ds4acolombia7.s3.us-east-2.amazonaws.com/C%C3%B3digo+de+Conducta+-+DS4A+Colombia.pdf)\n\nHoy vamos a ejecutar nuestro primer programa. Te invitamos a ejecutar las siguientes cajas de código, haciendo clic en la caja y luego clic en este ícono &#9654; que se encuentra ubicado en la barra superior. Alternativamente si estas en una computadora puedes utilizar las teclas `shift + enter` para ejecutar el código.\n\nEl código a continuación instalará las siguientes librerías [ipyleaflet](https://ipyleaflet.readthedocs.io/en/latest/) y [ipywidgets](https://ipywidgets.readthedocs.io/) usando un lenguaje llamado [Python](https://www.python.org/) dentro de este documento que se llama [Jupyter notebook](https://jupyter.org/).\n\n",
      "metadata": {
        "tags": []
      }
    },
    {
      "cell_type": "code",
      "source": "%pip install -q ipywidgets ipyleaflet",
      "metadata": {},
      "execution_count": null,
      "outputs": []
    },
    {
      "cell_type": "markdown",
      "source": "De nuevo ejecuta la siguiente caja de código para ver una representación visual de muchísimos datos centrada en un lugar que tiene un valor muy especial y debemos cuidar.",
      "metadata": {}
    },
    {
      "cell_type": "code",
      "source": "from ipyleaflet import Map, basemaps, basemap_to_tiles\n\nm = Map(\n    basemap=basemap_to_tiles(basemaps.OpenStreetMap.Mapnik),\n    center=(4.59810, -74.07604), # Edita esta linea de código y averigua las coordenadas de tu pueblo o región. Puedes usar google\n    zoom=5 # Incrementa este valor para visualizar de forma más cercana tu pueblo o región.\n    )\nm",
      "metadata": {},
      "execution_count": null,
      "outputs": []
    },
    {
      "cell_type": "markdown",
      "source": "¡Nos sentimos felices de iniciar este viaje de formación en habilidades de datos junto contigo! El Workspace es un espacio para que experimentes con datos, idéas y código, no le tengas temor y vamos a aprender juntos con él.\n\n<center><img src=\"https://correlation1-public.s3-us-west-2.amazonaws.com/training/COLOMBIA+MAIN+SANS+TAG.svg\" alt=\"DS4A / Colombia\" width=\"20%\"/></center>",
      "metadata": {}
    }
  ]
}