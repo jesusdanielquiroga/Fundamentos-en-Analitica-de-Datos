{
  "cells": [
    {
      "cell_type": "markdown",
      "metadata": {
        "id": "GUy3r1RqYEI-"
      },
      "source": [
        "¿Cuántos casos confirmados de COVID19 hay en los estados de Estados Unidos?\n",
        "=================================================================\n",
        "\n",
        "**Objetivo de aprendizaje:** En este caso aprenderás a escribir **loops**, (qué en inglés significa **bucles**) `for` y a leer y escribir archivos de texto plano utilizando Python.\n",
        "\n",
        "---\n",
        "\n",
        "Trabajas como analista de datos en un Centro de Pensamiento local especializado en política social. Hoy tu jefe ha obtenido un buen conjunto de datos sobre el COVID-19 y quiere que le ayudes con un informe rápido para incluirlo en una de sus presentaciones. Quiere que averigües *cuántos casos confirmados* hubo entre el 22 de enero de 2020 y el 9 de febrero de 2021 en cada estado, y que guardes los *resultados en un archivo de texto*. También necesita saber cuántos casos acumulados ha habido en todo EEUU.\n",
        "\n",
        "Los datos le llegan en una carpeta llamada `confirmed` (que en inglés significa confirmado), y tiene 52 subcarpetas dentro, una carpeta por cada estado de EEUU más 2 territorios adicionales. Dentro de cada subcarpeta, hay archivos de texto plano, un archivo por condado (los condados en Estados Unidos son más o menos como lo que nosotros llamamos municipios en Colombia). Estos archivos tienen 385 filas cada uno, porque hubo 385 días entre el 22 de enero de 2020 y el 9 de febrero de 2021.\n",
        "\n",
        "Estos datos representan los casos acumulados confirmados de COVID-19 por condado. Eso significa que los números informan no sólo de cuántas personas se enfermaron ese día, sino también de cuántas han tenido COVID-19 antes (desde el 22 de enero de 2020), incluyendo las que se recuperaron, las que no se recuperaron y las que contrajeron el virus más de una vez.\n"
      ]
    },
    {
      "cell_type": "markdown",
      "metadata": {
        "id": "8FrrIAkzYEJG"
      },
      "source": [
        "Madison, Indiana\n",
        "----------------\n",
        "\n",
        "Para leer un archivo en Python, utilizamos el método **`open()`** y el argumento `r` (que es la inicial de la palabra *read*, que significa \"leer\"). Para obtener una lista de todas las filas del archivo, utilizamos **`.readlines()`**.\n",
        "\n",
        "**Nota:** A lo largo de este caso, truncaremos las salidas de algunas de las celdas rebanando algunas listas para facilitarte la navegación por el cuaderno."
      ]
    },
    {
      "cell_type": "code",
      "execution_count": null,
      "metadata": {
        "colab": {
          "base_uri": "https://localhost:8080/"
        },
        "executionInfo": {
          "elapsed": 285,
          "status": "ok",
          "timestamp": 1667023475644,
          "user": {
            "displayName": "Camilo España",
            "userId": "04143801952656908553"
          },
          "user_tz": 300
        },
        "id": "xVg1ReC8YEJI",
        "outputId": "8a930fc8-d282-448a-f9d0-855006cfec47"
      },
      "outputs": [],
      "source": [
        "archivo = open(\"data/confirmed/Indiana/Madison.csv\", \"r\")\n",
        "madison_indiana = archivo.readlines()\n",
        "madison_indiana[0:15] # La lista tiene 385 filas, pero solamente mostramos las primeras 15"
      ]
    },
    {
      "cell_type": "markdown",
      "metadata": {
        "id": "IfLUH_hbYEJK"
      },
      "source": [
        "Cada fila es una cadena de texto que contiene los casos reales confirmados y el carácter `\\n`, que señala una nueva línea. Queremos convertir esta extraña lista de cadenas de texto en una lista de números enteros. Para conseguirlo, necesitamos\n",
        "\n",
        "1.  Iterar por cada elemento de la lista\n",
        "2.  Extraer el número\n",
        "3.  Almacenar el número en otra lista\n"
      ]
    },
    {
      "cell_type": "markdown",
      "metadata": {
        "id": "fXYPlZ7WYEJK"
      },
      "source": [
        "Nuestra mejor ayuda para este tipo de tareas es el **bucle** **`for`**. Los bucles `for` son bloques de código en Python que automatizan tareas repetitivas. La sintaxis es la siguiente\n",
        "\n",
        "\n",
        "```python\n",
        "for item in secuencia:\n",
        "    <hacer algo> # posiblemente incluyendo el nombre de la variable `item`\n",
        "```\n",
        "\n",
        "\n",
        "donde `secuencia` es una lista, tupla, conjunto, diccionario o cadena de texto (en el caso de una cadena, los bucles `for` iteran sobre todos los caracteres de esa cadena). El bucle `for` anterior \"hace algo\" *por cada* elemento de la secuencia, de modo que si la secuencia tiene 10 elementos, el bucle realiza la tarea 10 veces. La palabra clave `for` es la abreviatura de \\\"para cada\\\".\n"
      ]
    },
    {
      "cell_type": "markdown",
      "metadata": {
        "id": "-iJyLnW9YEJL"
      },
      "source": [
        "Practicando con bucles `for`\n",
        "------------------------\n"
      ]
    },
    {
      "cell_type": "markdown",
      "metadata": {
        "id": "9R7Jk3zEYEJM"
      },
      "source": [
        "### Ejemplo 1\n",
        "\n",
        "Itera a través de una cadena de texto `mi_texto` y guarda cada carácter de esta cadena en una lista. La entrada debe ser\n",
        "\n",
        "```python\n",
        "mi_texto = \"Correlation1\"\n",
        "```\n",
        "\n",
        "Y la salida debe ser\n",
        "\n",
        "```python\n",
        "['C','o','r','r','e','l','a','t','i','o','n','1']\n",
        "```"
      ]
    },
    {
      "cell_type": "markdown",
      "metadata": {
        "id": "liJIgCrZYEJN"
      },
      "source": [
        "**Respuesta.**\n"
      ]
    },
    {
      "cell_type": "code",
      "execution_count": null,
      "metadata": {
        "colab": {
          "base_uri": "https://localhost:8080/"
        },
        "executionInfo": {
          "elapsed": 11,
          "status": "ok",
          "timestamp": 1667023475924,
          "user": {
            "displayName": "Camilo España",
            "userId": "04143801952656908553"
          },
          "user_tz": 300
        },
        "id": "5wOwjF9BYEJO",
        "outputId": "8aa046e7-2baa-403d-c0a4-4243aa672a0a"
      },
      "outputs": [],
      "source": [
        "#Este primer bloque imprime los resultados usando \"print()\" para mostrar visualmente lo que sucede durante cada iteración de nuestro bucle.\n",
        "\n",
        "mi_texto = \"Correlation1\"\n",
        "\n",
        "lista_de_letras = []\n",
        "\n",
        "for letra in mi_texto:\n",
        "    print('-->Comenzando la iteración del bucle--')\n",
        "    print(f'\\tElemento de la cadena en esta iteración = {letra}')\n",
        "    print('\\t Agregando esta letra a la lista de letras')\n",
        "    lista_de_letras.append(letra )\n",
        "    print('\\t',lista_de_letras)\n",
        "    print()\n",
        "\n",
        "print(lista_de_letras)"
      ]
    },
    {
      "cell_type": "code",
      "execution_count": null,
      "metadata": {
        "colab": {
          "base_uri": "https://localhost:8080/"
        },
        "executionInfo": {
          "elapsed": 196,
          "status": "ok",
          "timestamp": 1667023476111,
          "user": {
            "displayName": "Camilo España",
            "userId": "04143801952656908553"
          },
          "user_tz": 300
        },
        "id": "eTS3WQxUYEJP",
        "outputId": "f105b92d-292d-40b3-aec4-a22f23528776"
      },
      "outputs": [],
      "source": [
        "#Este bloque de código hace lo mismo que el anterior, solo que no imprime los pasos\n",
        "\n",
        "mi_texto = \"Correlation1\"\n",
        "\n",
        "lista_de_letras = []\n",
        "\n",
        "for letra in mi_texto:\n",
        "    lista_de_letras.append(letra)\n",
        "    \n",
        "print(lista_de_letras)"
      ]
    },
    {
      "cell_type": "markdown",
      "metadata": {
        "id": "1KYQ7m3pYEJQ"
      },
      "source": [
        "### Ejemplo 2\n",
        "\n",
        "Haz una nueva lista utilizando la primera letra de cada palabra de la lista de palabras proporcionada.\n",
        "\n",
        "Entrada:\n",
        "\n",
        "```python\n",
        "['Data', 'Science', '4', 'All']\n",
        "```\n",
        "\n",
        "\n",
        "Resultado:\n",
        "\n",
        "```python\n",
        "['D', 'S', '4', 'A']\n",
        "```"
      ]
    },
    {
      "cell_type": "markdown",
      "metadata": {
        "id": "7D6t2GfOYEJR"
      },
      "source": [
        "**Respuesta.**\n"
      ]
    },
    {
      "cell_type": "code",
      "execution_count": null,
      "metadata": {
        "colab": {
          "base_uri": "https://localhost:8080/"
        },
        "executionInfo": {
          "elapsed": 10,
          "status": "ok",
          "timestamp": 1667023476111,
          "user": {
            "displayName": "Camilo España",
            "userId": "04143801952656908553"
          },
          "user_tz": 300
        },
        "id": "esNqOFxeYEJR",
        "outputId": "35985a86-3797-4e57-8a34-11c30655cdc1"
      },
      "outputs": [],
      "source": [
        "#Este primer bloque imprime los resultados usando \"print()\" para mostrar visualmente lo que sucede durante cada iteración de nuestro bucle.\n",
        "\n",
        "lista_de_palabras = [\"Data\", \"Science\", \"4\", \"All\"]\n",
        "resultado = []\n",
        "\n",
        "for palabra in lista_de_palabras:\n",
        "    print('--Comienza la iteración del loop--')\n",
        "    print(f'\\tElemento de la lista de palabras en esta iteración= {palabra}')\n",
        "    print(f'\\tExtrar primera letra de esta palabra: {palabra[0]}')\n",
        "    print('\\tAgregar esta letra en nuestra lista de resultado')\n",
        "    resultado.append(palabra[0])\n",
        "    print('\\t', resultado)\n",
        "    print()\n",
        "\n",
        "print(resultado)"
      ]
    },
    {
      "cell_type": "code",
      "execution_count": null,
      "metadata": {
        "colab": {
          "base_uri": "https://localhost:8080/"
        },
        "executionInfo": {
          "elapsed": 9,
          "status": "ok",
          "timestamp": 1667023476112,
          "user": {
            "displayName": "Camilo España",
            "userId": "04143801952656908553"
          },
          "user_tz": 300
        },
        "id": "UbKOH0JxYEJS",
        "outputId": "29f407b7-f063-495b-8426-d07fcd3f496f"
      },
      "outputs": [],
      "source": [
        "#Este bloque de código hace lo mismo que el anterior, solo que no imprime los resultados\n",
        "\n",
        "lista_de_palabras = [\"Data\", \"Science\", \"4\", \"All\"]\n",
        "resultado = []\n",
        "\n",
        "for palabra in lista_de_palabras:\n",
        "    resultado.append(palabra[0])\n",
        "    \n",
        "print(resultado)"
      ]
    },
    {
      "cell_type": "markdown",
      "metadata": {
        "id": "fYOJL2aIYEJS"
      },
      "source": [
        "Escribiendo un bucle `for`\n",
        "-----------------------\n",
        "\n",
        "Cada elemento de la lista `madison_indiana` es una cadena de texto que contiene los casos reales confirmados y el carácter `\\n`, que señala una nueva línea, así `['25\\n', '35\\n', ...]`. Queremos convertir esta extrañísima lista de cadenas de texto en una lista de enteros (como esta `[25, 35, ...]`). Para conseguirlo, necesitamos: \n",
        "\n",
        "1.  Iterar por cada elemento de la lista\n",
        "2.  Extraer el número\n",
        "3.  Almacenar el número en otra lista\n",
        "\n",
        "¿Cómo sería nuestro bucle `for`? El primer paso, \"iterar por cada elemento de la lista\", es fácil:\n",
        "\n",
        "\n",
        "```python\n",
        "for linea in madison_indiana:\n",
        "```\n",
        "\n",
        "\n",
        "Para el segundo paso, tenemos que extraer el número. Podríamos escribir algo así:\n",
        "\n",
        "\n",
        "```python\n",
        "linea = linea.replace(\"\\n\", \"\") # Eliminar la nueva linea\n",
        "numero = int(linea) # Convertir en entero\n",
        "```\n",
        "\n",
        "\n",
        "Sin embargo, envolver ó incluir estas dos líneas en una función podría ser más fácil de leer:\n",
        "\n",
        "\n",
        "```python\n",
        "def extraer_numero(cualquier_texto):\n",
        "    cualquier_texto = cualquier_texto.replace(\"\\n\", \"\") # Eliminar la nueva linea\n",
        "    numero = int(cualquier_texto) # Convertir en entero\n",
        "    return numero\n",
        "```\n",
        "\n",
        "\n",
        "Ahora podemos incluir `extraer_numero(cualquier_texto)` dentro de nuestro bucle `for`:"
      ]
    },
    {
      "cell_type": "code",
      "execution_count": null,
      "metadata": {
        "colab": {
          "base_uri": "https://localhost:8080/"
        },
        "executionInfo": {
          "elapsed": 7,
          "status": "ok",
          "timestamp": 1667023476113,
          "user": {
            "displayName": "Camilo España",
            "userId": "04143801952656908553"
          },
          "user_tz": 300
        },
        "id": "oIwZFHVvYEJT",
        "outputId": "aa37f2e6-1ca7-44bd-f7bf-77d619ab5d9b"
      },
      "outputs": [],
      "source": [
        "def extraer_numero(cualquier_texto):\n",
        "    cualquier_texto = cualquier_texto.replace(\"\\n\", \"\")\n",
        "    numero = int(cualquier_texto)\n",
        "    return numero\n",
        "\n",
        "for fila in madison_indiana[0:15]:\n",
        "    print(extraer_numero(fila))"
      ]
    },
    {
      "cell_type": "markdown",
      "metadata": {
        "id": "uA79_9NYYEJU"
      },
      "source": [
        "Ahora que hemos extraído con éxito los números, esta sería una forma de hacer el  último paso, que es \"Almacenar el número en otra lista\":\n"
      ]
    },
    {
      "cell_type": "code",
      "execution_count": null,
      "metadata": {
        "executionInfo": {
          "elapsed": 277,
          "status": "ok",
          "timestamp": 1667023476385,
          "user": {
            "displayName": "Camilo España",
            "userId": "04143801952656908553"
          },
          "user_tz": 300
        },
        "id": "eZOghwF1YEJU"
      },
      "outputs": [],
      "source": [
        "numeros_madison_indiana = []\n",
        "\n",
        "for fila in madison_indiana:\n",
        "    numero = extraer_numero(fila)\n",
        "    numeros_madison_indiana.append(numero)"
      ]
    },
    {
      "cell_type": "markdown",
      "metadata": {
        "id": "-a5_vqNpYEJU"
      },
      "source": [
        "Primero creamos una lista vacía, `numeros_madison_indiana`, luego iteramos a través de las líneas del archivo con el bucle `for` y para cada fila, extraemos el número con nuestra función y añadimos el resultado a nuestra lista vacía. Así que básicamente hemos rellenado nuestra lista de forma iterativa (recuerda de un caso anterior que puedes añadir elementos a una lista utilizando `mi_lista.append()`). Veamos como se ven nuestros datos depurados:\n"
      ]
    },
    {
      "cell_type": "code",
      "execution_count": null,
      "metadata": {
        "colab": {
          "base_uri": "https://localhost:8080/"
        },
        "executionInfo": {
          "elapsed": 34,
          "status": "ok",
          "timestamp": 1667023476386,
          "user": {
            "displayName": "Camilo España",
            "userId": "04143801952656908553"
          },
          "user_tz": 300
        },
        "id": "I-KGLe4uYEJV",
        "outputId": "a8e08d78-1a48-4c09-f90d-ebc2f4dfd4c8"
      },
      "outputs": [],
      "source": [
        "numeros_madison_indiana[0:15]"
      ]
    },
    {
      "cell_type": "markdown",
      "metadata": {
        "id": "4_83WXJ5YEJV"
      },
      "source": [
        "Para encontrar el número más reciente de casos confirmados, utilizamos el método **`max()`** (los datos son una serie temporal acumulativa, por lo que el valor más reciente será siempre el máximo):\n"
      ]
    },
    {
      "cell_type": "code",
      "execution_count": null,
      "metadata": {
        "colab": {
          "base_uri": "https://localhost:8080/"
        },
        "executionInfo": {
          "elapsed": 32,
          "status": "ok",
          "timestamp": 1667023476386,
          "user": {
            "displayName": "Camilo España",
            "userId": "04143801952656908553"
          },
          "user_tz": 300
        },
        "id": "QPx9eq2eYEJV",
        "outputId": "3f0f9417-5cfe-4dce-db6b-746357139b0c"
      },
      "outputs": [],
      "source": [
        "max(numeros_madison_indiana)"
      ]
    },
    {
      "cell_type": "markdown",
      "metadata": {
        "id": "qgoE_3FVYEJW"
      },
      "source": [
        "### Haciendo el cálculo para todos los condados de Indiana\n",
        "\n",
        "Solamente en la carpeta de Indiana hay 94 archivos. Si los bucles `for` no existieran, tendrías que leer los archivos uno por uno y almacenar los resultados manualmente, pero ahora tienes los conocimientos necesarios para automatizar esta tarea.\n"
      ]
    },
    {
      "cell_type": "markdown",
      "metadata": {
        "id": "LqrTmCWNYEJW",
        "tags": [
          "10_min"
        ]
      },
      "source": [
        "### Ejercicio 1\n",
        "\n",
        "Escribe un bucle  `for` para recorrer todos los archivos de la carpeta `data/confirmed/Indiana` y guardar cada archivo como un elemento de una lista llamada `datos_indiana`.\n",
        "\n",
        "**Pista:** Este código te dará una lista de todos los archivos CSV que están dentro de la carpeta Indiana, con sus correspondientes rutas:\n",
        "\n",
        "\n",
        "```python\n",
        "import glob\n",
        "lista_de_archivos = glob.glob(\"data/confirmed/Indiana/*.csv\")\n",
        "```\n",
        "\n",
        "\n",
        "Además, recuerda utilizar `open()` y `.readlines()`."
      ]
    },
    {
      "cell_type": "markdown",
      "metadata": {
        "id": "T3BhIwzzYEJW",
        "tags": [
          "ans_st"
        ]
      },
      "source": [
        "**Respuesta.**"
      ]
    },
    {
      "cell_type": "markdown",
      "metadata": {},
      "source": [
        "-------"
      ]
    },
    {
      "cell_type": "markdown",
      "metadata": {
        "id": "t0McURf8YEJX",
        "tags": [
          "13_min"
        ]
      },
      "source": [
        "### Ejercicio 2\n",
        "\n",
        "Ahora que tienes `datos_indiana`, crea un bucle `for` que lo recorra y extraiga los números. Llama a la lista anidada resultante `datos_indiana_limpios`.\n",
        "\n",
        "Para este ejercicio, tendrás que utilizar un **bucle** `for` **anidado**, es decir, un bucle `for` dentro de otro bucle `for`. El bucle anidado debe estar indentado. Como en el siguiente ejemplo:\n",
        "\n",
        "\n",
        "```python\n",
        "for i in [1,2,3]: # Este es el primer bucle\n",
        "    for j in [4,5,6]: # Este es el bucle anidado\n",
        "        print(i+j)\n",
        "```\n",
        "\n",
        "\n",
        "**Pista:** Necesitas dos listas vacías: Una es `datos_indiana_limpios` y la otra corresponde a los números de condado de un determinado condado (te damos estas listas en el código de abajo). Vas a tener que añadir los números limpios a esta segunda lista, y luego añadir iterativamente todas las listas de condados (una por condado) a `datos_indiana_limpios`.\n",
        "\n",
        "Te proporcionamos una parte del código para ayudarte a empezar:\n",
        "\n",
        "\n",
        "```python\n",
        "datos_indiana_limpios = []\n",
        "\n",
        "for condado in datos_indiana:\n",
        "    numeros_de_este_condado = []\n",
        "    # Agrega tu bucle aquí\n",
        "    datos_indiana_limpios.append(numeros_de_condado)\n",
        "```\n",
        "\n"
      ]
    },
    {
      "cell_type": "markdown",
      "metadata": {
        "id": "d6upLMrmYEJY",
        "tags": [
          "ans_st"
        ]
      },
      "source": [
        "**Respuesta.**"
      ]
    },
    {
      "cell_type": "markdown",
      "metadata": {},
      "source": [
        "-------"
      ]
    },
    {
      "cell_type": "markdown",
      "metadata": {
        "id": "G0iNYyAaYEJY"
      },
      "source": [
        "Por último, calculemos el número actual de casos para cada condado y luego el total estatal:\n"
      ]
    },
    {
      "cell_type": "code",
      "execution_count": null,
      "metadata": {
        "colab": {
          "base_uri": "https://localhost:8080/"
        },
        "executionInfo": {
          "elapsed": 21,
          "status": "ok",
          "timestamp": 1667023476388,
          "user": {
            "displayName": "Camilo España",
            "userId": "04143801952656908553"
          },
          "user_tz": 300
        },
        "id": "cdnzwGVoYEJY",
        "outputId": "91bf0f7c-c859-4c1a-ae0a-7ac8983b91c7"
      },
      "outputs": [],
      "source": [
        "indiana_actual = []\n",
        "for condado in datos_indiana_limpios:\n",
        "    casos_actuales = max(condado)\n",
        "    indiana_actual.append(casos_actuales)\n",
        "    \n",
        "sum(indiana_actual)"
      ]
    },
    {
      "cell_type": "markdown",
      "metadata": {
        "id": "It75fUP_YEJZ"
      },
      "source": [
        "Ahora sabemos que se han confirmado 642.071 casos en Indiana.\n"
      ]
    },
    {
      "cell_type": "markdown",
      "metadata": {
        "id": "LhvSqRicYEJZ"
      },
      "source": [
        "Haciendo lo mismo para todos los estados y condados\n",
        "---------------------------------------------------\n",
        "\n",
        "Hay 3.334 archivos en nuestro conjunto de datos. Ampliar nuestro análisis a todo el país parece un buen trabajo para un bucle `for`.\n",
        "\n",
        "Para nuestra comodidad, vamos a envolver nuestro código de limpieza en una función:\n"
      ]
    },
    {
      "cell_type": "code",
      "execution_count": null,
      "metadata": {
        "executionInfo": {
          "elapsed": 19,
          "status": "ok",
          "timestamp": 1667023476388,
          "user": {
            "displayName": "Camilo España",
            "userId": "04143801952656908553"
          },
          "user_tz": 300
        },
        "id": "k0FzRNOmYEJZ"
      },
      "outputs": [],
      "source": [
        "def datos_limpios_condado(ruta):\n",
        "    \"\"\"\n",
        "    Toma una ruta de un archivo, carga el archivo en Python \n",
        "    y devuelve una lista con los datos limpios.\n",
        "    \"\"\"\n",
        "    # Leyendo el archivo\n",
        "    archivo = open(ruta, \"r\")\n",
        "    content = archivo.readlines()\n",
        "    \n",
        "    # Limpiando los datos y agregandolos a numeros_de_condado\n",
        "    numeros_de_este_condado = []\n",
        "    for fila in content:\n",
        "        numero = extraer_numero(fila)\n",
        "        numeros_de_este_condado.append(numero)\n",
        "        \n",
        "    return numeros_de_este_condado"
      ]
    },
    {
      "cell_type": "markdown",
      "metadata": {
        "id": "tdubS2MnYEJZ"
      },
      "source": [
        "Para llamar a esta función, necesitas escribir algo similar al código siguiente, y el resultado será una lista de enteros (los números que corresponden al condado que se ingresa como input o entrada):\n"
      ]
    },
    {
      "cell_type": "code",
      "execution_count": null,
      "metadata": {
        "colab": {
          "base_uri": "https://localhost:8080/"
        },
        "executionInfo": {
          "elapsed": 19,
          "status": "ok",
          "timestamp": 1667023476389,
          "user": {
            "displayName": "Camilo España",
            "userId": "04143801952656908553"
          },
          "user_tz": 300
        },
        "id": "Khqj2gzmYEJa",
        "outputId": "62ed2703-3386-4320-fe81-4aeb7ebd094f"
      },
      "outputs": [],
      "source": [
        "datos_limpios_condado(\"data/confirmed/Indiana/Madison.csv\")"
      ]
    },
    {
      "cell_type": "markdown",
      "metadata": {
        "id": "ipUzDyH1YEJa",
        "tags": [
          "12_min"
        ]
      },
      "source": [
        "### Ejercicio 3\n",
        "\n",
        "Este código te da la lista de todos los estados:\n",
        "\n",
        "\n",
        "```python\n",
        "import os\n",
        "lista_de_estados = os.listdir(\"data/confirmed\")\n",
        "```\n",
        "\n",
        "\n",
        "Y esto te da la lista de todos los archivos en `` `data/confirmed/Indiana` ``:\n",
        "\n",
        "\n",
        "```python\n",
        "glob.glob(\"data/confirmed/Indiana/*.csv\")\n",
        "```\n",
        "\n",
        "\n",
        "Puedes parametrizar este último pedazo de código así\n",
        "\n",
        "\n",
        "```python\n",
        "estado = \"Indiana\"\n",
        "glob.glob(\"data/confirmed/\" + estado + \"/*.csv\")\n",
        "```\n",
        "\n",
        "\n",
        "Con esto en mente, escribe un bucle `for` que dé el siguiente resultado (tendrás que anidar los bucles):\n",
        "\n",
        "![Salida deseada](data/images/desired_result.png)\n",
        "\n",
        "El resultado deseado es una lista en la que cada elemento es una lista con dos elementos 1) El nombre del estado y 2) el número total de casos confirmados en ese estado. Llama a esta lista `resultado`.\n",
        "\n",
        "**Pista:** Te damos parte del código para ayudarte a empezar (tienes que añadir tu bucle `for` después del comentario `#Tu código aquí`):\n",
        "\n",
        "\n",
        "```python\n",
        "import os\n",
        "lista_de_estados = os.listdir(\"data/confirmed\")\n",
        "\n",
        "resultado = []\n",
        "for estado in lista_de_estados:\n",
        "    # Una lista en la cual vamos a almacenar los máximos de cada condado en este estado\n",
        "    lista_de_numeros_actuales = []\n",
        "    \n",
        "        # Limpiando todos los archivos correspondientes y encontrando sus máximos\n",
        "        lista_de_condados = glob.glob(\"data/confirmed/\" + estado + \"/*.csv\")\n",
        "        # Tu código aquí\n",
        "    \n",
        "    # Sumando los números actuales de todos los condados de este estado\n",
        "    total_estado = sum(lista_de_numeros_actuales)\n",
        "    \n",
        "    # Agregando los resultados a la lista de resultados\n",
        "    resultado.append([estado, total_estado])\n",
        "\n",
        "resultado\n",
        "```\n",
        "\n"
      ]
    },
    {
      "cell_type": "markdown",
      "metadata": {
        "id": "TFVu9jgEYEJb",
        "tags": [
          "ans_st"
        ]
      },
      "source": [
        "**Respuesta.**"
      ]
    },
    {
      "cell_type": "markdown",
      "metadata": {},
      "source": [
        "-------"
      ]
    },
    {
      "cell_type": "markdown",
      "metadata": {
        "id": "p2VcCDz5YEJb"
      },
      "source": [
        "Finalmente, podemos sumar todos los totales a nivel estatal para obtener un total general para todo EEUU:\n"
      ]
    },
    {
      "cell_type": "code",
      "execution_count": null,
      "metadata": {
        "colab": {
          "base_uri": "https://localhost:8080/"
        },
        "executionInfo": {
          "elapsed": 210,
          "status": "ok",
          "timestamp": 1667023476588,
          "user": {
            "displayName": "Camilo España",
            "userId": "04143801952656908553"
          },
          "user_tz": 300
        },
        "id": "nfZj_sx2YEJc",
        "outputId": "347e106c-fcfa-4392-a991-308524736623"
      },
      "outputs": [],
      "source": [
        "solo_totales = []\n",
        "for estado in resultado:\n",
        "    solo_totales.append(estado[1]) # Solo nos interesa el número, no en el nombre del estado\n",
        "\n",
        "sum(solo_totales)"
      ]
    },
    {
      "cell_type": "markdown",
      "metadata": {
        "id": "UA6-_92XYEJc"
      },
      "source": [
        "Desde el 22 de enero de 2020 hasta el 9 de febrero de 2021, el número de casos acumulados de COVID-19 en EEUU fue de 27.224.664.\n"
      ]
    },
    {
      "cell_type": "markdown",
      "metadata": {
        "id": "Ck48Hb3aYEJc"
      },
      "source": [
        "Guardar tus resultados en un archivo de texto es fácil. Vamos a crear el archivo `casos_covid.txt`. Para ello, utilizaremos este código (fíjate en que esta vez hemos utilizado `w` en lugar de `r`, porque queremos **escribir** en ese archivo (*write* en inglés), no sólo **leerlo**):\n"
      ]
    },
    {
      "cell_type": "code",
      "execution_count": null,
      "metadata": {
        "executionInfo": {
          "elapsed": 5,
          "status": "ok",
          "timestamp": 1667023476589,
          "user": {
            "displayName": "Camilo España",
            "userId": "04143801952656908553"
          },
          "user_tz": 300
        },
        "id": "wD28CByOYEJc"
      },
      "outputs": [],
      "source": [
        "nuevo_archivo_a_guardar = open(\"casos_covid.txt\", \"w\")\n",
        "linea = \"Desde enero 22 de 2020 hasta febrero 9 de 2021, el número acumulado de casos de COVID-19 en EEUU fue 27.224.664.\"\n",
        "nuevo_archivo_a_guardar.write(linea)\n",
        "nuevo_archivo_a_guardar.close()"
      ]
    },
    {
      "cell_type": "markdown",
      "metadata": {
        "id": "704kKkgpYEJd"
      },
      "source": [
        "Ve a la carpeta de este caso. El nuevo archivo debería estar allí con los resultados.\n"
      ]
    },
    {
      "cell_type": "markdown",
      "metadata": {
        "id": "Os9sSCtbYEJd"
      },
      "source": [
        " Apéndice\n",
        "--------\n",
        "\n",
        "Aquí tienes un resumen de los principales puntos que hemos tratado en este caso:\n",
        "\n",
        "-   **Abrir un archivo de texto**: `archivo = open(\"ruta/al/archivo\", \"r\")`. Para leer las líneas del archivo y guardarlas en forma de lista, utiliza `lista_de_líneas = archivo.readlines()`.\n",
        "-   **Bucles `for`**. Este diagrama muestra las diferentes partes de un bloque de bucle `for`:\n",
        "\n",
        "![Bucles for](data/images/for_anatomy.png)\n",
        "\n",
        "-   **Rellenar una lista de forma iterativa:** Esta es una tarea común, así que guarda el fragmento código:\n",
        "\n",
        "\n",
        "```python\n",
        "lista_a_llenar = []\n",
        "for item in cualquier_secuencia:\n",
        "    nuevo_item = cualquier_funcion(item)\n",
        "    lista_a_llenar.append(nuevo_item)\n",
        "```\n",
        "\n",
        "\n",
        "-   **Obtener una lista de todos los archivos con `extensión` en un directorio (directorio es sólo otro nombre para \\\"carpeta\\\")**:\n",
        "\n",
        "\n",
        "```python\n",
        "import glob\n",
        "lista_de_archivos = glob.glob(\"ruta/al/archivo/*.extension\")\n",
        "```\n",
        "\n",
        "\n",
        "Aquí hay que tener en cuenta dos cosas importantes:\n",
        "\n",
        "En primer lugar, si no estás familiarizado con el término **extensión**, es simplemente el texto que va después del punto en los nombres de los archivos. Las extensiones ayudan a identificar el tipo de archivo. Por ejemplo, `mi_excel.xlsx` tiene la extensión `.xslx`, que identifica los archivos de Excel, y `mi_imagen.png` tiene la extensión `.png`, que te indica que se trata de un archivo de imagen PNG. \n",
        "\n",
        "En segundo lugar, es que este fragmento de código utiliza un asterisco (`*`) como **comodín**. En este contexto, este símbolo le dice a Python que tenga en cuenta todos los archivos que están dentro de esa carpeta y que terminan en . `extension`. Así, por ejemplo, este código detectaría `hola.extensión` y `adiós.extensión` pero no `esto_es.otraextensión`. Los comodines son marcadores de posición que representan un texto indeterminado antes o después de otro texto conocido. \\* **Obtener una lista de todos los subdirectorios de un directorio**:\n",
        "\n",
        "\n",
        "```python\n",
        "import os\n",
        "lista_de_subcarpetas = os.listdir(\"ruta/al/directorio\")\n",
        "```\n",
        "\n",
        "\n",
        "-   **Bucles `for` anidados:** Para anidar un bucle `for` dentro de otro bucle `for`, tienes que indentar el bucle interior (los fragmentos de código dentro del bucle interior tendrán, por tanto, doble indentación).\n",
        "-   **Crear un archivo, escribir una línea y guardar el archivo en el disco**: Este es un fragmento genérico para hacerlo:\n",
        "\n",
        "\n",
        "```python\n",
        "nuevo_archivo_a_guardar = open(\"ruta/al/archivo/nombre_de_nuevo_archivo.txt\", \"w\")\n",
        "linea = \"Cualquier texto para ser escrito\"\n",
        "nuevo_archivo_a_guardar.write(linea)\n",
        "nuevo_archivo_a_guardar.close()\n",
        "```\n",
        "\n"
      ]
    },
    {
      "cell_type": "markdown",
      "metadata": {
        "id": "THpOX8aKYEJd"
      },
      "source": [
        "Créditos\n",
        "--------\n",
        "\n",
        "*JHU CSSE COVID-19 Dataset*. Johns Hopkins University on behalf of its Center for Systems Science in Engineering. February 9, 2021. Creative Commons Attribution 4.0 International. https://github.com/CSSEGISandData/COVID-19. For additional information, please refer to \"Dong E, Du H, Gardner L. An interactive web-based dashboard to track COVID-19 in real time. Lancet Inf Dis. 20(5):533-534. doi: 10.1016/S1473-3099(20)30120-1\"\n",
        "\n"
      ]
    }
  ],
  "metadata": {
    "language_info": {
      "name": "python"
    }
  },
  "nbformat": 4,
  "nbformat_minor": 1
}