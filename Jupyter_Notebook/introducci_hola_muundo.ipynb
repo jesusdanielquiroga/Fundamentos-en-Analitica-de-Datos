{
  "metadata": {
    "kernelspec": {
      "name": "python",
      "display_name": "Python (Pyodide)",
      "language": "python"
    },
    "language_info": {
      "codemirror_mode": {
        "name": "python",
        "version": 3
      },
      "file_extension": ".py",
      "mimetype": "text/x-python",
      "name": "python",
      "nbconvert_exporter": "python",
      "pygments_lexer": "ipython3",
      "version": "3.8"
    },
    "varInspector": {
      "cols": {
        "lenName": 16,
        "lenType": 16,
        "lenVar": 40
      },
      "kernels_config": {
        "python": {
          "delete_cmd_postfix": "",
          "delete_cmd_prefix": "del ",
          "library": "var_list.py",
          "varRefreshCmd": "print(var_dic_list())"
        },
        "r": {
          "delete_cmd_postfix": ") ",
          "delete_cmd_prefix": "rm(",
          "library": "var_list.r",
          "varRefreshCmd": "cat(var_dic_list()) "
        }
      },
      "types_to_exclude": [
        "module",
        "function",
        "builtin_function_or_method",
        "instance",
        "_Feature"
      ],
      "window_display": false
    }
  },
  "nbformat_minor": 5,
  "nbformat": 4,
  "cells": [
    {
      "cell_type": "markdown",
      "source": "¡Tu primer programa!\n====================\n",
      "metadata": {},
      "id": "408fb610"
    },
    {
      "cell_type": "markdown",
      "source": "Introducción\n------------\n\nEn un caso anterior, aprendiste lo que era un lenguaje de programación y viste tus primeros fragmentos de código. ¡Ahora estás preparado para escribir tu propio programa!\n\n![Hola mundo](data/images/hello_es.PNG)\n\nPara ello construiremos el [famoso programa \"Hola Mundo\"](https://es.wikipedia.org/wiki/Hola_mundo) que realiza la tarea más básica posible: imprimir un texto en la Terminal. Después, iremos introduciendo gradualmente diferentes conceptos como los errores, los comentarios, los tipos de datos, las listas y además algunos procedimientos que te permitirán por ejemplo ejecutar tus programas fuera de un cuaderno de Jupyter.",
      "metadata": {},
      "id": "1a03e5bd"
    },
    {
      "cell_type": "markdown",
      "source": "Bloques del código\n----------------------------------\n\nEn su forma más básica, todo código se compone de cuatro elementos: **valores**, **variables**, **operadores** y **funciones**. Todo el software escrito a lo largo de la historia de la computación está formado por combinaciones de estos cuatro conceptos.",
      "metadata": {},
      "id": "86df7cb9"
    },
    {
      "cell_type": "markdown",
      "source": "### Valores y variables\n\nEn primer lugar, tenemos los **valores**. Un valor es simplemente un dato con el que queremos hacer algo. El número 5 es un valor, por ejemplo. Los valores pueden ser de muchos tipos, pero los dos más comunes son los números y las cadenas de texto. Cuando un valor es un texto, se suele decir que es de tipo *cadena de texto*. Por ejemplo, el texto \"Este es un programa genial\" es un valor de cadena de texto.\n\n¡Los tipos son importantes! La cadena de texto \\\"5\\\" no es el mismo valor que el número 5:",
      "metadata": {},
      "id": "aea7e55a"
    },
    {
      "cell_type": "code",
      "source": "\"5\"",
      "metadata": {},
      "execution_count": null,
      "outputs": [],
      "id": "6cf3cac0"
    },
    {
      "cell_type": "code",
      "source": "5",
      "metadata": {},
      "execution_count": null,
      "outputs": [],
      "id": "6a3dd2ab"
    },
    {
      "cell_type": "markdown",
      "source": "A continuación, tenemos **las variables**: una variable es una \"caja\" en la que podemos almacenar un valor para utilizarlo posteriormente. Normalmente, decimos que *asignamos* un *valor* a una *variable*, para utilizar ese valor posteriormente en nuestro programa.\n\nEn la siguiente celda puedes ver un ejemplo de asignación de un valor a una variable. La sintaxis para asignar un valor a una variable consiste simplemente en colocar el nombre de tu variable a la izquierda, seguido del signo `=`, y a continuación el valor a asignar:",
      "metadata": {},
      "id": "0f0d0a25"
    },
    {
      "cell_type": "code",
      "source": "a = 5",
      "metadata": {},
      "execution_count": null,
      "outputs": [],
      "id": "e5a09eae"
    },
    {
      "cell_type": "markdown",
      "source": "Arriba, hemos *asignado* el valor 5 a la variable `a`. Después de hacer esto, podemos utilizar esa variable para cualquier propósito.\n\nObserva que no se ha *impreso* nada debajo de la celda. Esto se debe a que la asignación de una variable sólo la almacena en la memoria de tu computador, pero para mostrar la variable debes decirle a tu computador que lo haga. El acto de asignar el valor es distinto del acto de mostrar la propia variable.\n\nUna forma de hacerlo en los cuadernos Jupyter es simplemente colocar el valor o la variable en una celda independiente,y posteriormente ejecutar la celda. El valor se imprimirá inmediatamante bajo la celda:",
      "metadata": {},
      "id": "cc2179c4"
    },
    {
      "cell_type": "code",
      "source": "a",
      "metadata": {},
      "execution_count": null,
      "outputs": [],
      "id": "b562da41"
    },
    {
      "cell_type": "markdown",
      "source": "### Ejercicio 1\n\nAhora, ¡a practicar! Verás que la siguiente celda de código tiene una variable a la que se le asignó el valor `0`. Asígnale otro valor que quieras (mientras que sea numérico) y ejecuta la celda.\n\n**Pista 1:** Para ejecutar una celda, presiona `Ctrl`+`Enter`.\n\n**Pista 2:** A continuación verás la palabra \"Respuesta\" en negrita seguida de una línea horizontal. En todos nuestros ejercicios de casos, verás esto donde se supone que tienes que dar una respuesta. Haz clic en la celda que contiene la palabra \"Respuesta\" y luego pulsa la tecla `b`. Esto creará una nueva celda de código en la que podrás introducir tu respuesta.",
      "metadata": {},
      "id": "f18d5791"
    },
    {
      "cell_type": "code",
      "source": "b = 0\nb",
      "metadata": {},
      "execution_count": null,
      "outputs": [],
      "id": "73f808c0"
    },
    {
      "cell_type": "markdown",
      "source": "**Respuesta.**",
      "metadata": {
        "tags": [
          "ans_st"
        ]
      },
      "id": "ff1831a3"
    },
    {
      "cell_type": "markdown",
      "source": "-------",
      "metadata": {},
      "id": "78d17db9"
    },
    {
      "cell_type": "markdown",
      "source": "### Funciones y operadores\n\nEl siguiente concepto es el de **función**. Una función es un fragmento de código que toma una entrada (como una \"materia prima\") y la procesa. Durante este programa, aprenderás a escribir tus propias funciones, pero mientras tanto utilizaremos algunas de las funciones propias del lenguaje Python.\n\nUna función se compone de 2 partes: su *nombre* y sus *entradas* (también conocidas como **argumentos** o **parámetros**). En Python, las funciones suelen tener un nombre que empieza por una letra minúscula. Algunos ejemplos de funciones comunes que utilizaremos son `print()`, `type()` y `len()`, entre muchas otras con las que cuenta Python por defecto.\n\n¿Recuerdas nuestra variable `a`? Si queremos hacerla visible en algún lugar sin tener que colocarla al final de nuestra celda, debemos utilizar la que probablemente sea la función más utilizada en Python: **`print()`**.\n\nLa función `print()` (que siempre será escrita en inglés, y que significa imprimir) toma como entrada básicamente cualquier elemento que puedas imaginar, e imprime esa entrada en la Terminal o después de la celda actual dentro de un cuaderno de Jupyter. Vamos a imprimir nuestra variable `a` junto con un texto complementario:",
      "metadata": {},
      "id": "babb03db"
    },
    {
      "cell_type": "code",
      "source": "print(a)\nprint('¡Estamos utilizando la función print!')",
      "metadata": {},
      "execution_count": null,
      "outputs": [],
      "id": "cd9ffc96"
    },
    {
      "cell_type": "markdown",
      "source": "**Nota:** a diferencia de Excel, en el cual dependiendo de la versión de idioma en el que trabajas las funciones cambian de nombre, en Python las funciones siempre serán escritas de una misma manera, siempre en inglés. ¡Si no dominas el inglés, anímate a aprenderlo! Te abrirá muchas puertas en el mundo de los datos.",
      "metadata": {},
      "id": "8670b6c5"
    },
    {
      "cell_type": "markdown",
      "source": "Observa que si eliminamos la función `print()` de la primera línea de la celda anterior y sólo escribimos `a`, la impresión no se genera:",
      "metadata": {},
      "id": "f3857602"
    },
    {
      "cell_type": "code",
      "source": "a\nprint('¡Estamos utilizando la función print!')",
      "metadata": {},
      "execution_count": null,
      "outputs": [],
      "id": "a357b59a"
    },
    {
      "cell_type": "markdown",
      "source": "¡La función `print()` es muy importante! Acostúmbrate a imprimir tus variables siempre para comprobar si tu programa funciona bien. La práctica de arreglar los problemas de tu programa se llama **depuración**, y a menudo la función `print()` es tu principal herramienta para depurar rápidamente tanto problemas simples como complejos.",
      "metadata": {},
      "id": "e4b66e41"
    },
    {
      "cell_type": "markdown",
      "source": "Una función adicional que te resultará útil en tus proyectos es la función `input()`. Ésta permite que el código solicite una entrada al usuario, haciendo que el código sea un poco más dinámico (sobre todo cuando se ejecutan scripts de Python a través de la Terminal). Vamos a probarla:",
      "metadata": {},
      "id": "d6f1e6be"
    },
    {
      "cell_type": "code",
      "source": "a = await input(\"¿Cuál es tu nombre?\")",
      "metadata": {},
      "execution_count": null,
      "outputs": [],
      "id": "e4322a56"
    },
    {
      "cell_type": "code",
      "source": "b = await input(\"¿Cuál es tu sueño? \")",
      "metadata": {},
      "execution_count": null,
      "outputs": [],
      "id": "d218c5e3"
    },
    {
      "cell_type": "code",
      "source": "c = await input(\"¿Cuál es tu color favorito?\")",
      "metadata": {},
      "execution_count": null,
      "outputs": [],
      "id": "39c84969"
    },
    {
      "cell_type": "code",
      "source": "print(\"---------\")\n\nprint(a)\nprint(\"sueña con:\")\nprint(b)\nprint(\"y su color favorito es:\")\nprint(c)",
      "metadata": {},
      "execution_count": null,
      "outputs": [],
      "id": "2078e043"
    },
    {
      "cell_type": "markdown",
      "source": "Por último, tenemos los **operadores**. Los operadores son elementos que permiten que los valores y las variables interactúen entre sí. Algunos operadores comunes son los que puedes conocer como **operadores** matemáticos, como la suma, la multiplicación y la resta, pero hay muchos otros. Vamos a probar un par de operadores matemáticos básicos:",
      "metadata": {},
      "id": "4f21a009"
    },
    {
      "cell_type": "code",
      "source": "a = 15\nb = 4\n\nc = a*2\nd = a/2\ne = a+b\n\nprint(c)\nprint(d)\nprint(e)",
      "metadata": {},
      "execution_count": null,
      "outputs": [],
      "id": "0d8b2a65"
    },
    {
      "cell_type": "markdown",
      "source": "¡También puedes sumar algo más que números! Una forma rápida y sencilla de *unir* 2 cadenas de texto es simplemente \"sumarlas\" con el operador `+`:",
      "metadata": {},
      "id": "04c0cd48"
    },
    {
      "cell_type": "code",
      "source": "primera_cadena_de_texto = 'Esta es la primera parte '\nsegunda_cadena_de_texto = 'de una oración más grande.'\ncadena_completa = primera_cadena_de_texto + segunda_cadena_de_texto\nprint(cadena_completa)",
      "metadata": {},
      "execution_count": null,
      "outputs": [],
      "id": "cb554a59"
    },
    {
      "cell_type": "markdown",
      "source": "Puedes asignar casi cualquier nombre a las variables, excepto algunas palabras reservadas que Python utiliza para sus operaciones internas. Además, las variables no pueden empezar por números (pero pueden tener números dentro), por ejemplo, `a1`, `a456` y `ind33d` son variables válidas, pero `1a`, `456a` y `3xc3l3nte` no lo son. De manera adicional, aunque se puede utilizar tildes y algunos caracteres especiales como parte del nombre de las variables, en general no deben utilizarse.\n\nAsí, en lugar de limitarnos a `a` o `b`, ¡podemos nombrar nuestras variables casi como queramos! Es importante utilizar nombres de variables que sean fáciles de entender para que tu código sea legible y comprensible. Al computador no le importa realmente cómo nombras tus variables, pero a tus colegas, compañeros de trabajo, profesores y cualquier otra persona que pueda leer tu código, seguro que sí.\n\nCuando se trata de nombres de variables de varias palabras (como la de `cadena completa` en el ejemplo de arriba), la mejor práctica es separar las palabras con un guión bajo `_`, ya que utilizar un espacio (` `) o un guión (`-`) en el nombre de una variable provoca errores. A algunas personas les gusta utilizar una convención llamada [\"Camel case\" o \"Letra de camello\"](https://es.wikipedia.org/wiki/Camel_case), en la que se pone en mayúscula la primera letra de cada palabra, excluyendo la primera (así se crea una protuberancia que se parece a la joroba de un camello). Así, tendríamos `cadenaCompleta`. Las mayúsculas y minúsculas son comunes, pero el uso de guiones bajos es más popular y generalmente más legible.\n\nObserva también que hemos asignado a la variable `cadena_completa` un valor que es el resultado de la operación entre otras dos variables. Ésta es una de las formas más habituales de asignar valores a las variables. Sin embargo, no es necesario que limites las operaciones a dos variables: puedes operar con tantas variables como quieras en una sola línea de código.",
      "metadata": {},
      "id": "de09a32f"
    },
    {
      "cell_type": "markdown",
      "source": "### Ejercicio 2\n\nEscribe unas líneas de código que hagan lo siguiente:\n\n1.  Asigna el valor `a*b` a una nueva variable llamada `resultado_multiplicacion`.\n2.  Asigna el valor `a**b` a una nueva variable llamada `resultado_exponencial`\n3.  Imprime cada variable utilizando la función `print()`.\n\n**Pista:** En Python, la multiplicación se hace con el operador `*` y la potenciación se hace con el operador `**`. Por ejemplo, $4 \\times 5$ se codificaría como `4*5` y $2^3$ se codificaría como `2**3`.",
      "metadata": {},
      "id": "e1fade0c"
    },
    {
      "cell_type": "markdown",
      "source": "**Respuesta.**",
      "metadata": {
        "tags": [
          "ans_st"
        ]
      },
      "id": "53d690e5"
    },
    {
      "cell_type": "markdown",
      "source": "-------",
      "metadata": {},
      "id": "c8ae5a91"
    },
    {
      "cell_type": "markdown",
      "source": "Lo más importante de las variables es que (como su nombre indica) pueden variar con el tiempo. Eso significa que puedes sobrescribir su valor actual con cualquier otro valor en cualquier momento. Por ejemplo, antes asignamos el número 5 a la variable `a`. Pero a la variable `a` podemos asignarle cualquier otro valor nuevo, tras lo cual `a` olvidará el valor 5 y lo sustituirá por el último valor asignado:",
      "metadata": {},
      "id": "5ca5adff"
    },
    {
      "cell_type": "code",
      "source": "print(a)\n\na = 'Este es otro valor diferente'\nprint(a)\n\na = 12\nprint(a)",
      "metadata": {},
      "execution_count": null,
      "outputs": [],
      "id": "ff97c75a"
    },
    {
      "cell_type": "markdown",
      "source": "Conceptos básicos de la sintaxis de Python\n------------------------------------------\n\nPython es muy flexible en comparación con otros lenguajes, pero, como todos los lenguajes de programación, tiene reglas que deben seguirse *estrictamente* para que tu computador entienda y ejecute tus órdenes. A medida que practiques y escribas más código de Python, estas reglas se convertirán en algo natural y ya no tendrás que pensar en ellas. Empezaremos con las dos reglas principales, y aprenderemos el resto poco a poco:\n\n1.  Python distingue entre mayúsculas y minúsculas\n2.  Sólo debe haber una única sentencia por línea de código\n\n¿Simple, no? Estas 2, junto con las otras reglas que aprenderás pronto, son reglas *obligatorias*. Eso significa que deben cumplirse en su totalidad para que tu código sea entendido por tu computador.\n\nAquí tienes un ejemplo de cómo Python distingue entre mayúsculas y minúsculas. Aunque las tres variables tienen un nombre similar, Python las trata como diferentes porque distingue entre mayúsculas y minúsculas:",
      "metadata": {},
      "id": "eed3fdd7"
    },
    {
      "cell_type": "code",
      "source": "variableUno = 'Esta es una variable'\nvariableuno = 'y esta es otra variable'\nVariableuno = 15 \nprint(variableUno)\nprint(variableuno)\nprint(Variableuno)",
      "metadata": {},
      "execution_count": null,
      "outputs": [],
      "id": "f9504dbe"
    },
    {
      "cell_type": "markdown",
      "source": "Mira un ejemplo de cómo Python exige que sólo haya una declaración en cada línea de código. Ejecuta el siguiente fragmento de código:",
      "metadata": {},
      "id": "d31a56e5"
    },
    {
      "cell_type": "code",
      "source": "print(variableUno) print(variableuno) print(Variableuno)",
      "metadata": {},
      "execution_count": null,
      "outputs": [],
      "id": "217425eb"
    },
    {
      "cell_type": "markdown",
      "source": "Deberías haber obtenido un error. Normalmente, Python es muy claro con su salida de error. La parte más importante del mensaje de error es la última línea, que suele decir `SyntaxError` o algo similar, seguida de una descripción de lo que significa el error.\n\n**Nota:** Tal como los nombres de las funciones, los mensajes de error también estarán siempre en inglés. ¡Tranquilo, nada que tu y Google no puedan solucionar! Por ejemplo, en este caso el error obtenido era: `SyntaxError: invalid syntax` que con ayuda de un traductor en caso de que lo requieras podrás saber que se trata de un error de sintaxis, de una sintaxis inválida.\n\nEn este caso veremos un par de tipos de errores más. Ya que sabemos que este último error era un error de *sintaxis*, intentemos arreglar la sintaxis.",
      "metadata": {},
      "id": "062311f6"
    },
    {
      "cell_type": "markdown",
      "source": "### Ejercicio 3\n\nCorrige el código anterior para no obtener un error de sintaxis.",
      "metadata": {},
      "id": "ee853157"
    },
    {
      "cell_type": "markdown",
      "source": "**Respuesta.**",
      "metadata": {
        "tags": [
          "ans_st"
        ]
      },
      "id": "6b8715f5"
    },
    {
      "cell_type": "markdown",
      "source": "-------",
      "metadata": {},
      "id": "9fb828ce"
    },
    {
      "cell_type": "markdown",
      "source": "Otra forma de hacerlo es hacer que una función `print()` imprima varios valores a la vez. Puedes hacerlo separando los valores con comas. Todos los valores se imprimirán secuencialmente, separados por un espacio:",
      "metadata": {},
      "id": "56adadc5"
    },
    {
      "cell_type": "code",
      "source": "print(variableUno, variableuno, Variableuno)",
      "metadata": {},
      "execution_count": null,
      "outputs": [],
      "id": "19743b2d"
    },
    {
      "cell_type": "markdown",
      "source": "¡Hola Mundo!\n------------\n\nAhora que conoces los elementos básicos que conforman un código y las principales reglas del lenguaje Python, estás preparado para escribir tu primer programa.",
      "metadata": {},
      "id": "40cfe5e9"
    },
    {
      "cell_type": "markdown",
      "source": "### Ejercicio 4\n\nEn la siguiente celda, escribe un programa que imprima el valor `¡Hola Mundo!` utilizando la función `print()`.",
      "metadata": {},
      "id": "8562e03d"
    },
    {
      "cell_type": "markdown",
      "source": "**Respuesta.**",
      "metadata": {
        "tags": [
          "ans_st"
        ]
      },
      "id": "a2064857"
    },
    {
      "cell_type": "markdown",
      "source": "-------",
      "metadata": {},
      "id": "42c8393d"
    },
    {
      "cell_type": "markdown",
      "source": "Ahora deberías ver `¡Hola Mundo!` debajo de la celda de código. ¡Felicitaciones! Ya has creado oficialmente tu primer programa \"¡Hola Mundo!\". Si te ha parecido muy sencillo, ¡es porque lo es! La verdad es que Python es un lenguaje maravilloso y es especialmente bueno para los principiantes porque su sintaxis es muy comprensible y corta. En otros lenguajes de programación, escribir un programa \"¡Hola Mundo!\" podría llevar 3, 5 o incluso una docena de líneas. Pero en Python, ¡podemos hacerlo en una! ¡De eso se trata Python, de simplificarnos la vida!",
      "metadata": {},
      "id": "5a40a671"
    },
    {
      "cell_type": "markdown",
      "source": "Comentarios\n-----------\n\nPuede que hayas notado que en algunas de las celdas anteriores había un texto que no parecía afectar al código que había debajo. Este texto es lo que se conoce como **comentario**. Un comentario es un fragmento de texto que los programadores utilizan para describir lo que hace o debería hacer una sección del código, para dejar instrucciones a otra persona (como hacemos nosotros en estos casos), o simplemente para dejar notas para futuras consultas.\n\nEn Python, dejar comentarios es sencillo: basta con empezar la línea con el carácter `#`, y todo lo que siga en esa línea no será código ejecutado, sino sólo texto para que alguien lo lea.\n\nEl uso más típico de los comentarios es describir lo que hace un fragmento de código. Mira un ejemplo:",
      "metadata": {},
      "id": "d90ef655"
    },
    {
      "cell_type": "code",
      "source": "# Este programa asigna valores numéricos a 2 variables diferentes y encuentra la suma de sus valores al cuadrado\nx = 8\ny = 12\nr = (x**2)+(y**2) # También puedes usar comentarios al lado del código que se ejecutará\nprint('La suma del cuadrado de los valores es', r)",
      "metadata": {},
      "execution_count": null,
      "outputs": [],
      "id": "0cc1db55"
    },
    {
      "cell_type": "markdown",
      "source": "Comentar tu código es importante para que sea comprensible. Los programas complejos pueden tener cientos o incluso miles de líneas, y comentar lo que hace cada sección hace que sea mucho más fácil para ti y para otros leer el código en el futuro. ¡Sigue el consejo y utiliza los comentarios, realmente lo agradecerás!",
      "metadata": {},
      "id": "d47b5b36"
    },
    {
      "cell_type": "markdown",
      "source": "Tipos de datos\n--------------\n\nEntremos en algunos detalles de cómo Python entiende lo que le dices que haga. Una de las primeras cosas que has aprendido es a sumar dos números o dos cadenas de texto. ¿Pero qué ocurre si intentas sumar una cadena de texto con un número? Ejecuta el siguiente fragmento:\n",
      "metadata": {},
      "id": "67421b5e"
    },
    {
      "cell_type": "code",
      "source": "# La variable `a` contiene un número.\nprint(a)\n\n# La variable `cadena_completa` contiene una cadena de texto\nprint(cadena_completa)\n\n# ¿Qué ocurre cuando las sumamos?\nexperimento = a + cadena_completa\n\n# Imprimamos el resultado\nprint(experimento)",
      "metadata": {},
      "execution_count": null,
      "outputs": [],
      "id": "fb442b11"
    },
    {
      "cell_type": "markdown",
      "source": "Deberías haber obtenido el error `TypeError: unsupported operand type(s) for +: 'int' and 'str'`\n\nEste error significa que el operador `+` no funciona entre cadenas de texto y números. Hay dos detalles importantes a los que hay que prestar atención aquí. En primer lugar, fíjate en que dice `TypeError`, y en segundo lugar en que menciona dos tipos, `int` y `str`. Esto se debe a que en Python todos los valores y variables tienen un **tipo**. Un tipo describe lo que se puede y no se puede hacer con un dato concreto, y lo que ese dato representa.\n\nPuedes averiguar el tipo de un valor o variable con la función `type()`. La función toma como entrada cualquier valor o variable e imprime su tipo. Hay muchos tipos de datos en Python, ¡e incluso puedes crear los tuyos propios! Pero, por el momento, vamos a ver los principales tipos de datos que nos ofrece Python.",
      "metadata": {},
      "id": "d7156cc2"
    },
    {
      "cell_type": "markdown",
      "source": "### `int`\n\nEl tipo de datos `int` (o entero, en español) se utiliza para representar [números enteros](https://es.wikipedia.org/wiki/N%C3%BAmero_entero), tanto positivos como negativos. 5, -5, 1793, -78954 o cualquier otro número en el que no necesitemos valores decimales se puede definir con un `int`:",
      "metadata": {},
      "id": "e5cf6b81"
    },
    {
      "cell_type": "code",
      "source": "a = 3147483648777\nprint(type(a))\nb = -36\nprint(type(b))",
      "metadata": {},
      "execution_count": null,
      "outputs": [],
      "id": "cfcf05b3"
    },
    {
      "cell_type": "markdown",
      "source": "Observa que ambos valores son de tipo `int`. Además, fíjate en que hemos utilizado la función `type()` dentro de la función `print()`. ¡Una función dentro de otra función! (Genial, ¿verdad?) Cuando haces eso, el orden de ejecución de las funciones es de adentro hacia afuera: La función interna se ejecuta primero, y luego la externa.",
      "metadata": {},
      "id": "d176f918"
    },
    {
      "cell_type": "markdown",
      "source": "### `float`\n\n¿Y qué pasa cuando necesitamos números con decimales? En ese caso, necesitamos el tipo de datos **`float`** (o \"números de coma flotante\", en español). `float` puede representar números con hasta 16 dígitos de precisión (lo que se denomina \"doble precisión\"). Ejemplos de `float` pueden ser -12,5, 3/14, 7813,21629 o cualquier otro número con decimales:",
      "metadata": {},
      "id": "d82e603d"
    },
    {
      "cell_type": "code",
      "source": "c = -65.452\nc_tipo = type(c)\nprint(c_tipo)\n\nd = 1/6\nd_tipo = type(d)\nprint(d_tipo)",
      "metadata": {},
      "execution_count": null,
      "outputs": [],
      "id": "75635078"
    },
    {
      "cell_type": "markdown",
      "source": "Al contrario de lo que hemos visto con las cadenas de texto y los enteros, los enteros y los flotantes pueden operar entre sí con operadores matemáticos. El resultado de esta operación es siempre un flotante:",
      "metadata": {},
      "id": "9c127ea3"
    },
    {
      "cell_type": "code",
      "source": "# Multipliquemos b por d, lo que debería dar como resultado -6.\nprint(b * d)\nprint(type(b*d))",
      "metadata": {},
      "execution_count": null,
      "outputs": [],
      "id": "8c10d44a"
    },
    {
      "cell_type": "markdown",
      "source": "Fíjate en que no hemos asignado `b*d` a una variable, sino que lo hemos utilizado directamente dentro de `type()`. ¡Operadores dentro de funciones dentro de funciones! Se aplica el mismo principio que ya habíamos visto: primero se evalúa la operación más interna, luego la siguiente función hacia fuera, y luego la siguiente, y así sucesivamente.",
      "metadata": {},
      "id": "1bfc6789"
    },
    {
      "cell_type": "markdown",
      "source": "### `str`\n\nEl tipo **`str`** representa a *las cadenas*, que son listas ordenadas de caracteres, o como las conocemos en lenguaje más común, ¡valores de texto! Las cadenas de texto tienen su propio conjunto de operadores y funciones incorporados a Python, pero aprenderemos más sobre ellos en casos futuros. De momento, recordemos que puedes *unirlas* con el operador `+`:",
      "metadata": {},
      "id": "344e4f20"
    },
    {
      "cell_type": "code",
      "source": "mas_texto = '¿Esto es una cadena de texto?'\nprint(type(mas_texto))\n\ntodavia_mas_texto = ' Sí, si lo es.'\n\ntexto_final = mas_texto + todavia_mas_texto\nprint(texto_final)\nprint(type(texto_final))",
      "metadata": {},
      "execution_count": null,
      "outputs": [],
      "id": "2920de98"
    },
    {
      "cell_type": "markdown",
      "source": "También puedes encontrar la longitud (es decir, el número de caracteres) de una cadena de texto con la función `len()` (que viene de *length*, que en español traduce longitud):",
      "metadata": {},
      "id": "0f59980b"
    },
    {
      "cell_type": "code",
      "source": "len(texto_final)",
      "metadata": {},
      "execution_count": null,
      "outputs": [],
      "id": "7ff4f4a5"
    },
    {
      "cell_type": "markdown",
      "source": "### `bool`\n\nEl tipo de datos **`bool`** (o [booleano](https://es.wikipedia.org/wiki/Tipo_de_dato_l%C3%B3gico), en español) representa los valores lógicos `True` y `False` (verdadero y falso respectivamente, en español, pero recuerda solo pueden emplearse en inglés en el código), y no puede tomar ningún otro valor:",
      "metadata": {},
      "id": "e7f05274"
    },
    {
      "cell_type": "code",
      "source": "variable_booleana = True\notra_variable_booleana = False\nprint(type(variable_booleana))\nprint(type(otra_variable_booleana))",
      "metadata": {},
      "execution_count": null,
      "outputs": [],
      "id": "71844c23"
    },
    {
      "cell_type": "markdown",
      "source": "Al igual que con las cadenas de texto y los enteros, tampoco puedes sumar por ejemplo booleanos y cadenas de texto. Hay varios operadores para los valores booleanos que aprenderemos más adelante. Ten en cuenta que las palabras `True` y `False` no se escriben entre comillas como cualquier otra cadena de texto. `True` y `False` son de por sí [palabras reservadas en Python](https://ellibrodepython.com/palabras-reservadas-python).",
      "metadata": {},
      "id": "821ee0d2"
    },
    {
      "cell_type": "markdown",
      "source": "### Combinando y transformando tipos de datos\n\nSi no podemos sumar cadenas de texto y booleanos, o enteros y flotantes, ¿cómo podemos imprimirlos juntos en una línea? Una forma podría ser utilizando el truco que aprendimos antes, separando los valores dentro de la función `print()` con comas. Por ejemplo:",
      "metadata": {},
      "id": "9e756bb4"
    },
    {
      "cell_type": "code",
      "source": "a = 10\nb = 5\nprint('El resultado de', a, 'dividido en', b, 'es igual a', a/b)",
      "metadata": {},
      "execution_count": null,
      "outputs": [],
      "id": "9331d2b2"
    },
    {
      "cell_type": "markdown",
      "source": "Otra forma es utilizar la función **`format()`**. Esta función toma una cadena de texto, varios números (de cualquier tipo numérico), y genera una cadena de texto en la que reemplaza los valores numéricos en las posiciones en las que se incluye el simbolo `{}`. Para que quede más claro, aquí tienes el mismo ejemplo anterior,pero esta vez utilizando la función `format()`:",
      "metadata": {},
      "id": "27396228"
    },
    {
      "cell_type": "code",
      "source": "a = 10\nb = 5\nprint('El resultado de {} dividido en {} es igual a {}'.format(a, b, a/b))",
      "metadata": {},
      "execution_count": null,
      "outputs": [],
      "id": "95e418cd"
    },
    {
      "cell_type": "markdown",
      "source": "Fíjate en que debemos colocar llaves`{}` como marcadores de posición para los valores numéricos. \n\nDe forma similar a `format()`, también puedes utilizar el tipo de representación **`f-string`**. Este tipo de representación funciona incluyendo la letra `f` antes de la primera comilla en la función `print()` y ubicando las variables que quieres imprimir directamente dentro de las llaves. Repitiendo nuevamente nuestro ejemplo, la nueva alternativa sería así:",
      "metadata": {},
      "id": "493bf4be"
    },
    {
      "cell_type": "code",
      "source": "a = 10\nb = 5\nprint(f'El resultado de {a} dividido en {b} es igual a {a/b}')",
      "metadata": {},
      "execution_count": null,
      "outputs": [],
      "id": "35f6b9f9"
    },
    {
      "cell_type": "markdown",
      "source": "La última forma es transformar los números en cadenas de texto, y luego sumarlos. Para transformar un número en una cadena de texto, debemos utilizar la función `str()`, que toma como entrada un valor o variable que no sea una cadena, y devuelve su representación en forma de cadena de texto:",
      "metadata": {},
      "id": "f8e35ba2"
    },
    {
      "cell_type": "code",
      "source": "a = 10\nb = 5\ncadena_texto_a = str(a)\ncadena_texto_b = str(b)\n\nprint(cadena_texto_a)\nprint(cadena_texto_b)\nprint(type(cadena_texto_a))\nprint(type(cadena_texto_b))\nprint('El resultado de ' + cadena_texto_a + ' dividido en ' + cadena_texto_b + ' es igual a ' + str(a/b))",
      "metadata": {},
      "execution_count": null,
      "outputs": [],
      "id": "6f194937"
    },
    {
      "cell_type": "markdown",
      "source": "Puedes utilizar cualquiera de estos métodos. La forma más *Pythónica* de resolverlo, es decir, la más aceptada en Python, es la que emplea **`f-string`**. Sin embargo todas hacen lo mismo y la que prefieras está bien. Normalmente, la forma más *Pythónica* es la más corta y fácil, pero como sabes, toda regla tiene sus excepciones.",
      "metadata": {},
      "id": "eb94e8e7"
    },
    {
      "cell_type": "markdown",
      "source": "El último método en el que transformamos una variable de un tipo a otro es muy útil y debes tenerlo en cuenta para el futuro. Puedes transformar números en cadenas de texto, pero también podrías transformar cadenas de texto con números en un tipo de datos numérico para poder operar con ellas. Para ello hay dos funciones principales: la función `int()`, que recibe como parámetro una cadena de texto con un número y devuelve su representación `int`, y la función `float()`, que hace lo mismo pero devuelve un `float`. Veamos un ejemplo de ello:",
      "metadata": {},
      "id": "4e50009c"
    },
    {
      "cell_type": "code",
      "source": "a = '5'\nb = '12.57'\n\nint_a = int(a)\nfloat_b = float(b)\n\nprint('La multiplicación de a y b es igual a', int_a*float_b)",
      "metadata": {},
      "execution_count": null,
      "outputs": [],
      "id": "a5f65a9c"
    },
    {
      "cell_type": "markdown",
      "source": "Si utilizas la función `int()` con una cadena de texto que tiene un número con decimales, devolverá un error:",
      "metadata": {},
      "id": "97d50325"
    },
    {
      "cell_type": "code",
      "source": "int_b = int(b)",
      "metadata": {},
      "execution_count": null,
      "outputs": [],
      "id": "95547705"
    },
    {
      "cell_type": "markdown",
      "source": "Si aplicas `int()` a un flotante, sólo extraerá la parte entera del mismo (la parte anterior al punto decimal. No redondea, simplemente trunca):",
      "metadata": {},
      "id": "519c75b7"
    },
    {
      "cell_type": "code",
      "source": "ejemplo_de_flotante = 15.99\nprint(int(ejemplo_de_flotante))",
      "metadata": {},
      "execution_count": null,
      "outputs": [],
      "id": "b97590bd"
    },
    {
      "cell_type": "markdown",
      "source": "También puedes transformar booleanos utilizando estas mismas funciones. La representación `int` de `Verdadero` es 1 y de `Falso` es 0. También puedes transformarlos en cadenas con `str()`. Miremos un ejemplo:",
      "metadata": {},
      "id": "6550137e"
    },
    {
      "cell_type": "code",
      "source": "booleano_verdadero = True\nprint(f'El valor de la variable booleano_verdadero es {str(booleano_verdadero)}')\n\nbooleano_falso = False\nprint(f'True es evaluado como {int(booleano_verdadero)} y False es evaluado como {int(booleano_falso)} cuando los transformamos en \"int\"')",
      "metadata": {},
      "execution_count": null,
      "outputs": [],
      "id": "71059bb7"
    },
    {
      "cell_type": "markdown",
      "source": "### Ejercicio 5\n\nA continuación, encontrarás distintas variables con valores de distintos tipos. Escribe un código que:\n\n1.  Transforme cada variable al tipo numérico correcto\n2.  Las sume\n3.  Asigne el resultado de la suma a una nueva variable\n4.  Transforme esta nueva variable a un tipo de dato de cadena de texto\n5.  Imprima esta cadena de texto junto con la frase escrita a continuación",
      "metadata": {},
      "id": "39943f2c"
    },
    {
      "cell_type": "code",
      "source": "a = True\nb = '12'\nc = '5.67'\n\n# Transforma estas variables en un tipo de dato numérico y súmelas\n\n# Ahora, transforma el resultado en una cadena. ¡Asegúrate de asignar el resultado a una nueva variable!\n\n# Finalmente, imprima su resultado editando la siguiente declaración de impresión. ¡No utilice una declaración de impresión nueva!\n\nprint('El resultado de la suma es...')",
      "metadata": {},
      "execution_count": null,
      "outputs": [],
      "id": "ad8f6164"
    },
    {
      "cell_type": "markdown",
      "source": "**Respuesta.**",
      "metadata": {
        "tags": [
          "ans_st"
        ]
      },
      "id": "d85b2883"
    },
    {
      "cell_type": "markdown",
      "source": "-------",
      "metadata": {},
      "id": "ac6aac6c"
    },
    {
      "cell_type": "markdown",
      "source": "Tipos de datos compuestos\n-------------------------\n\nYa conoces los tipos de datos básicos de Python. Hay otra clase importante de tipos de datos que aún no hemos mencionado: los **tipos compuestos**. Son tipos de datos que combinan varios valores en una sola variable, de ahí el nombre de *compuestos*.\n\nAl igual que con los tipos de datos básicos, hay varias clases de tipos compuestos. Los dos más comunes son la **lista** y el **diccionario**. En este caso, veremos las listas y cómo funcionan en Python.",
      "metadata": {},
      "id": "5aab5df8"
    },
    {
      "cell_type": "markdown",
      "source": "### Listas\n\nLa lista es un conjunto de valores (comúnmente, pero no necesariamente, del mismo tipo de datos) que se agrupan en un orden determinado. En Python, decimos que una *lista* tiene un grupo de *elementos*.\n\nLa sintaxis para definir una lista es sencilla: coloca tu grupo de valores entre corchetes y separados por comas, así:",
      "metadata": {},
      "id": "cc4e8880"
    },
    {
      "cell_type": "code",
      "source": "[1,2,3,4,5,6]",
      "metadata": {},
      "execution_count": null,
      "outputs": [],
      "id": "d71e8c49"
    },
    {
      "cell_type": "markdown",
      "source": "Acabamos de crear una lista con 6 valores `int`. Las listas pueden asignarse a una variable, igual que los tipos de datos básicos:",
      "metadata": {},
      "id": "882e4e93"
    },
    {
      "cell_type": "code",
      "source": "nuestra_lista = [1,2,3,4,5,6]\nprint(nuestra_lista)",
      "metadata": {},
      "execution_count": null,
      "outputs": [],
      "id": "fb42dda3"
    },
    {
      "cell_type": "markdown",
      "source": "Las listas pueden contener cualquier cantidad de valores, y los valores pueden ser de cualquier tipo. No se considera una buena práctica mezclar más de un tipo de datos en la misma lista, sin embargo hay algunas excepciones:",
      "metadata": {},
      "id": "86a57f43"
    },
    {
      "cell_type": "code",
      "source": "otra_lista = [True,'dos',3.54, 4]\nprint(otra_lista)",
      "metadata": {},
      "execution_count": null,
      "outputs": [],
      "id": "09c5ffd8"
    },
    {
      "cell_type": "markdown",
      "source": "En los siguientes casos, conocerás multiples formas en que puedes utilizar las listas.",
      "metadata": {},
      "id": "e170787e"
    },
    {
      "cell_type": "markdown",
      "source": "Crear y ejecutar programas en Python que no sean un cuaderno de Jupyter\n--------------------------------------------------------\n\nEn la última sección de este caso, aprenderemos a crear y ejecutar programas en Python que no estén incluidos al interior de un cuaderno de Jupyter. Aunque los cuadernos Jupyter son muy buenos para aprender y compartir métodos y resultados, no son tan eficientes fuera de su entorno.\n\nLos programas de Python (también llamados **scripts**) suelen tener el formato de archivo `.py` (evidentemente su nombre proviene de 'Python'). El código no es más que un archivo de texto que tu computador puede leer. Así que lo único que tenemos que hacer es crear un nuevo archivo de texto y nombrarlo con la extensión `.py` al final.\n\nCrea un nuevo archivo de texto que esté en la misma carpeta que el cuaderno de Jupyter de este caso. Llámalo `hola_mundo.py`:\n\n![Nuevo archivo](data/images/newFile_es_jl.gif)",
      "metadata": {},
      "id": "52441356"
    },
    {
      "cell_type": "markdown",
      "source": "Ahora, copia el fragmento de texto de la siguiente celda de código y pégalo dentro del archivo de texto que has creado, y luego guárdalo:\n",
      "metadata": {},
      "id": "0a6e937e"
    },
    {
      "cell_type": "code",
      "source": "print('¡Hola Mundo!') ",
      "metadata": {},
      "execution_count": null,
      "outputs": [],
      "id": "e2b1579a"
    },
    {
      "cell_type": "markdown",
      "source": "Por último, realiza un clic derecho sobre tu editor en el archivo `hola_mundo.py`, y selecciona `Crear consola para el editor` selecciona el código y ve al menú `Run` y selecciona `Ejecutar código`\n\n\nAhora deberías ver `¡Hola Mundo!` en tu consola.",
      "metadata": {},
      "id": "ded57ad5"
    },
    {
      "cell_type": "markdown",
      "source": "![¡Hola Mundo!](data/images/helloWorld_es_jl.gif)",
      "metadata": {},
      "id": "62053bf3"
    },
    {
      "cell_type": "markdown",
      "source": "Conclusión\n----------\n\nEn este caso has aprendido los cuatro componentes básicos de Python: **valores**, **variables**, **operadores** y **funciones**. También has visto un par de reglas sintácticas importantes de Python, sus tipos de datos más comunes y cómo transformar un tipo de datos en otro.\n\nTambién aprendiste sobre las listas (un tipo compuesto de datos) y sobre cómo crear o exportar scripts de Python puros fuera de un cuaderno de Jupyter.\n\nEn los siguientes casos aprenderás más sobre estos tipos de datos y cómo operar con ellos. ¡Felicitaciones por haber llegado hasta aquí! Muy pronto serás un experto en Python 😎.",
      "metadata": {},
      "id": "a7b95595"
    },
    {
      "cell_type": "markdown",
      "source": "Créditos\n--------\n\"HelloWorld.svg\", Dec 13, 2009, Wooptoo, Public Domain, https://en.wikipedia.org/wiki/File:HelloWorld.svg",
      "metadata": {},
      "id": "7cabf75a"
    }
  ]
}